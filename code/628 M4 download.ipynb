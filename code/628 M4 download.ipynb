{
 "cells": [
  {
   "cell_type": "code",
   "execution_count": 11,
   "id": "0b8e23f3",
   "metadata": {},
   "outputs": [],
   "source": [
    "import spotipy\n",
    "from spotipy.oauth2 import SpotifyClientCredentials\n",
    "\n",
    "# 1\n",
    "# client_id = '233d9c8c8f5341a191566e48d4eef182'\n",
    "# client_secret = '2d5eaeabe54f4361af55eb760f45fede'\n",
    "\n",
    "# 2\n",
    "# client_id = 'ef74e7127f3a4900b05b37827c49e05d'\n",
    "# client_secret = 'fa9343f37e2b4138901dbe4622e3993c'\n",
    "\n",
    "# 3\n",
    "client_id = '30ddd71a6b7d4e88b3681b72c9d2fae1'\n",
    "client_secret = '5360368ccbcf4e2b84ac7baf54d8882e'\n",
    "\n",
    "# 4\n",
    "# client_id = 'd6d6ddc616fa49a7a7da8d6347987f7b'\n",
    "# client_secret = '068a570d50d5438d8e11d8c9cfeff92e'\n",
    "\n",
    "# 5\n",
    "# client_id = 'd17670512c2848ff93c0a6921c86e7b3'\n",
    "# client_secret = 'c11716690a0f43dcb2df2d122e975fd3'\n",
    "\n",
    "# 授权并初始化 Spotipy 客户端\n",
    "client_credentials_manager = SpotifyClientCredentials(client_id=client_id, client_secret=client_secret)\n",
    "sp = spotipy.Spotify(client_credentials_manager=client_credentials_manager)"
   ]
  },
  {
   "cell_type": "markdown",
   "id": "32e4f5bb",
   "metadata": {},
   "source": [
    "在podcast的20大分类中，各找50个show（podcast）。下载它们的全部episodes"
   ]
  },
  {
   "cell_type": "code",
   "execution_count": 2,
   "id": "c633c508",
   "metadata": {},
   "outputs": [
    {
     "name": "stdout",
     "output_type": "stream",
     "text": [
      "Found 50 shows in category Science\n",
      "Found 50 shows in category Technology\n",
      "Found 50 shows in category Comedy\n",
      "Found 50 shows in category Business\n",
      "Found 50 shows in category Health\n",
      "Found 50 shows in category Music\n",
      "Found 50 shows in category Sports\n",
      "Found 50 shows in category Culture\n",
      "Found 50 shows in category News\n",
      "Found 50 shows in category Fiction\n",
      "Found 50 shows in category Education\n",
      "Found 50 shows in category History\n",
      "Found 50 shows in category Society & Culture\n",
      "Found 50 shows in category True Crime\n",
      "Found 50 shows in category Arts\n",
      "Found 50 shows in category Lifestyle\n",
      "Found 50 shows in category Parenting\n",
      "Found 50 shows in category Religion & Spirituality\n",
      "Found 50 shows in category Self-Improvement\n",
      "Found 50 shows in category TV & Film\n",
      "Total show IDs found: 1000\n"
     ]
    }
   ],
   "source": [
    "def get_shows_by_category(category, limit_per_category=50, show_limit=50):\n",
    "    show_ids = []\n",
    "    offset = 0\n",
    "    while len(show_ids) < limit_per_category:\n",
    "        # 如果已经找到了足够的 shows，则停止\n",
    "        if len(show_ids) >= limit_per_category:\n",
    "            break\n",
    "        # 使用类别关键字进行搜索，限制为 show_limit，offset 用于分页\n",
    "        results = sp.search(q=category, type='show', limit=show_limit, offset=offset, market = \"US\") # 限定在US内搜索\n",
    "        show_ids.extend([show['id'] for show in results['shows']['items']])\n",
    "        \n",
    "        # 如果结果少于 show_limit，说明已经没有更多 shows\n",
    "        if len(results['shows']['items']) < show_limit:\n",
    "            break\n",
    "        \n",
    "        # 更新 offset 进行下一轮分页\n",
    "        offset += show_limit\n",
    "    \n",
    "    # 限制返回 show_id 数量为 limit_per_category\n",
    "    return show_ids[:limit_per_category]\n",
    "\n",
    "# categories = ['Science', 'Technology', 'Comedy', 'Business', 'Health', 'Music', 'Sports', 'Culture', 'News', 'Fiction']\n",
    "categories = ['Science', 'Technology', 'Comedy', 'Business', 'Health', 'Music', 'Sports', 'Culture', 'News', \n",
    "              'Fiction', 'Education', 'History', 'Society & Culture', 'True Crime', 'Arts', 'Lifestyle', \n",
    "              'Parenting', 'Religion & Spirituality', 'Self-Improvement', 'TV & Film']\n",
    "\n",
    "\n",
    "all_show_ids = []\n",
    "\n",
    "for category in categories:\n",
    "    shows = get_shows_by_category(category)\n",
    "    all_show_ids.extend(shows)\n",
    "    print(f\"Found {len(shows)} shows in category {category}\")\n",
    "\n",
    "# 输出找到的所有 show_id\n",
    "print(f\"Total show IDs found: {len(all_show_ids)}\")"
   ]
  },
  {
   "cell_type": "code",
   "execution_count": 12,
   "id": "413ca27b",
   "metadata": {},
   "outputs": [
    {
     "name": "stdout",
     "output_type": "stream",
     "text": [
      "Access Token: BQAWw6IH3NMA7cUweXGj3K2ino5IIGan7Smpm8Lws_kH3oqnNiB1LEp81NKAa20cJewtEyGFUTFaWOqCQ-wyuy_tesinbqUxQM-kE8gUD7IBFm1eMNc\n"
     ]
    }
   ],
   "source": [
    "# 获取token\n",
    "import requests\n",
    "import base64\n",
    "# Spotify Token URL\n",
    "token_url = \"https://accounts.spotify.com/api/token\"\n",
    "\n",
    "# 编码 Client ID 和 Client Secret\n",
    "auth_header = base64.b64encode(f\"{client_id}:{client_secret}\".encode()).decode()\n",
    "\n",
    "# 请求头\n",
    "headers = {\n",
    "    \"Authorization\": f\"Basic {auth_header}\",\n",
    "    \"Content-Type\": \"application/x-www-form-urlencoded\"\n",
    "}\n",
    "\n",
    "# 请求体\n",
    "data = {\n",
    "    \"grant_type\": \"client_credentials\"\n",
    "}\n",
    "\n",
    "# 发送 POST 请求\n",
    "response = requests.post(token_url, headers=headers, data=data)\n",
    "\n",
    "# 检查响应状态\n",
    "if response.status_code == 200:\n",
    "    access_token = response.json().get(\"access_token\")\n",
    "    print(\"Access Token:\", access_token)\n",
    "else:\n",
    "    print(\"Failed to retrieve access token:\", response.json())"
   ]
  },
  {
   "cell_type": "code",
   "execution_count": 4,
   "id": "9845e46d",
   "metadata": {},
   "outputs": [],
   "source": [
    "import csv\n",
    "from tqdm import tqdm  # 导入进度条模块\n",
    "import time"
   ]
  },
  {
   "cell_type": "code",
   "execution_count": 5,
   "id": "7aeff232",
   "metadata": {},
   "outputs": [],
   "source": [
    "def get_episodes_from_show(access_token, show_id, market=\"US\", limit=50):\n",
    "    \"\"\"\n",
    "    获取指定 Show 的所有 Episode 信息。\n",
    "    \"\"\"\n",
    "    base_url = f\"https://api.spotify.com/v1/shows/{show_id}/episodes\"\n",
    "    headers = {\"Authorization\": f\"Bearer {access_token}\"}\n",
    "    episodes = []  # 存储所有 Episode\n",
    "    offset = 0\n",
    "\n",
    "    while True:\n",
    "        params = {\n",
    "            \"market\": market,\n",
    "            \"limit\": limit,\n",
    "            \"offset\": offset,\n",
    "        }\n",
    "\n",
    "        # 发送请求\n",
    "        response = requests.get(base_url, headers=headers, params=params)\n",
    "\n",
    "        # 检查 404 错误\n",
    "        if response.status_code == 404:\n",
    "            print(f\"Error 404: Resource not found for show_id: {show_id}\")\n",
    "            break  # 停止请求\n",
    "\n",
    "        # 检查状态码，处理速率限制 (429)\n",
    "        if response.status_code == 429:\n",
    "            retry_after = response.headers.get(\"Retry-After\")\n",
    "            if retry_after is not None:\n",
    "                retry_after = int(retry_after)  # 获取等待时间\n",
    "            else:\n",
    "                retry_after = 1  # 默认等待 1 秒\n",
    "\n",
    "            print(f\"Rate limit exceeded. Retrying after {retry_after} seconds...\")\n",
    "            time.sleep(retry_after)  # 等待 retry_after 秒后再继续\n",
    "            continue  # 跳过当前循环，重新尝试请求\n",
    "\n",
    "        # 处理其他非 200 响应\n",
    "        if response.status_code != 200:\n",
    "            print(f\"Error: {response.status_code}\")\n",
    "            try:\n",
    "                print(f\"Response content: {response.json()}\")\n",
    "            except ValueError:\n",
    "                print(f\"Non-JSON response: {response.text}\")\n",
    "            break\n",
    "\n",
    "        # 确保 JSON 解析安全\n",
    "        try:\n",
    "            data = response.json()\n",
    "        except ValueError:\n",
    "            print(f\"Failed to parse JSON. Response: {response.text}\")\n",
    "            break\n",
    "\n",
    "        items = data.get(\"items\", [])\n",
    "        episodes.extend(items)\n",
    "\n",
    "        if len(items) < limit:\n",
    "            break\n",
    "\n",
    "        offset += limit\n",
    "\n",
    "    return episodes\n"
   ]
  },
  {
   "cell_type": "code",
   "execution_count": 6,
   "id": "513dea25",
   "metadata": {},
   "outputs": [],
   "source": [
    "def save_episodes_to_csv(episodes, filename=\"episodes.csv\"):\n",
    "    \"\"\"\n",
    "    将 Episode 数据保存为 CSV 文件。\n",
    "    \n",
    "    Parameters:\n",
    "        - episodes: Episode 列表，每个元素为字典\n",
    "        - filename: 输出的 CSV 文件名 (默认 \"episodes.csv\")\n",
    "    \"\"\"\n",
    "    fieldnames = [\"show_id\", \"name\", \"description\", \"release_date\", \"duration_minutes\", \"id\", \"audio_preview_url\", \"explicit\", \"language\"]\n",
    "    # fieldnames = [\"name\", \"description\", \"release_date\", \"duration_minutes\", \"id\", \"audio_preview_url\", \"explicit\", \"language\"]\n",
    "    \n",
    "    with open(filename, mode=\"w\", newline=\"\", encoding=\"utf-8\") as file:\n",
    "        writer = csv.DictWriter(file, fieldnames=fieldnames)\n",
    "        writer.writeheader()\n",
    "        for episode in episodes:\n",
    "            if episode is None:\n",
    "                continue  # 跳过无效的episode\n",
    "            \n",
    "            if isinstance(episode, dict):  # 确保episode是字典类型\n",
    "            # Convert duration from milliseconds to minutes\n",
    "                duration_minutes = episode.get(\"duration_ms\", 0) / 60000  # milliseconds to minutes\n",
    "                writer.writerow({\n",
    "                    \"show_id\": episode.get(\"show_id\", \"\"),\n",
    "                    \"name\": episode.get(\"name\"),\n",
    "                    \"description\": episode.get(\"description\"),\n",
    "                    \"release_date\": episode.get(\"release_date\"),\n",
    "                    \"duration_minutes\": round(duration_minutes, 2),\n",
    "                    \"id\": episode.get(\"id\"),\n",
    "                    \"audio_preview_url\": episode.get(\"audio_preview_url\"),\n",
    "                    \"explicit\": episode.get(\"explicit\"),\n",
    "                    \"language\": episode.get(\"language\"),\n",
    "            })"
   ]
  },
  {
   "cell_type": "code",
   "execution_count": 7,
   "id": "62586f8d",
   "metadata": {},
   "outputs": [],
   "source": [
    "from tqdm import tqdm\n",
    "\n",
    "def fetch_episodes_for_shows(access_token, show_ids, market='US', limit=50):\n",
    "    all_episodes = []\n",
    "\n",
    "    # 使用 tqdm 添加进度条\n",
    "    for show_id in tqdm(show_ids, desc=\"Fetching episodes\", unit=\"show\"):\n",
    "        # 请求API获取每个 show 的 episodes\n",
    "        episodes = get_episodes_from_show(access_token, show_id, market, limit)\n",
    "\n",
    "        # 检查 episodes 是否有效\n",
    "        if episodes is None:\n",
    "            print(f\"Error: No response or invalid response for show_id {show_id}.\")\n",
    "            continue\n",
    "        elif len(episodes) == 0:\n",
    "            print(f\"Warning: No episodes found for show_id: {show_id}\")\n",
    "            continue\n",
    "        \n",
    "        # 在 episodes 列表中每个 episode 中加入 show_id 信息\n",
    "        for episode in episodes:\n",
    "            if isinstance(episode, dict):  # 确保是字典类型\n",
    "                episode[\"show_id\"] = show_id\n",
    "            else:\n",
    "                print(f\"Warning: Unexpected data structure for episode in show_id {show_id}.\")\n",
    "        \n",
    "        all_episodes.extend(episodes)  # 将当前 show 的 episodes 添加到总列表\n",
    "    \n",
    "    return all_episodes\n"
   ]
  },
  {
   "cell_type": "code",
   "execution_count": 9,
   "id": "f5c3455d",
   "metadata": {},
   "outputs": [
    {
     "name": "stderr",
     "output_type": "stream",
     "text": [
      "Fetching episodes:  42%|█████████████████████████▌                                   | 21/50 [01:30<01:32,  3.20s/show]"
     ]
    },
    {
     "name": "stdout",
     "output_type": "stream",
     "text": [
      "Warning: Unexpected data structure for episode in show_id 22OJWsluntwDB1siMFIA9V.\n"
     ]
    },
    {
     "name": "stderr",
     "output_type": "stream",
     "text": [
      "Fetching episodes: 100%|█████████████████████████████████████████████████████████████| 50/50 [02:55<00:00,  3.51s/show]\n"
     ]
    }
   ],
   "source": [
    "# show_ids = ['5lY4b5PGOvMuOYOjOVEcb9', '2n5yqzKnW0kp7ImBzZPqu4']  # 替换为你实际的show_ids\n",
    "episodes1 = fetch_episodes_for_shows(access_token, all_show_ids[:50])"
   ]
  },
  {
   "cell_type": "code",
   "execution_count": 10,
   "id": "d440b918",
   "metadata": {},
   "outputs": [],
   "source": [
    "# 保存所有episodes到CSV文件\n",
    "save_episodes_to_csv(episodes1, 'all_episodes1.csv')"
   ]
  },
  {
   "cell_type": "code",
   "execution_count": 11,
   "id": "fbe53ac6",
   "metadata": {},
   "outputs": [
    {
     "data": {
      "text/plain": [
       "14209"
      ]
     },
     "execution_count": 11,
     "metadata": {},
     "output_type": "execute_result"
    }
   ],
   "source": [
    "len(episodes1)"
   ]
  },
  {
   "cell_type": "code",
   "execution_count": 12,
   "id": "5e2225bc",
   "metadata": {},
   "outputs": [
    {
     "name": "stderr",
     "output_type": "stream",
     "text": [
      "Fetching episodes: 100%|█████████████████████████████████████████████████████████████| 50/50 [07:27<00:00,  8.96s/show]\n"
     ]
    }
   ],
   "source": [
    "episodes2 = fetch_episodes_for_shows(access_token, all_show_ids[50:100])"
   ]
  },
  {
   "cell_type": "code",
   "execution_count": 13,
   "id": "ba6853da",
   "metadata": {},
   "outputs": [],
   "source": [
    "# 保存所有episodes到CSV文件\n",
    "save_episodes_to_csv(episodes2, 'all_episodes2.csv')"
   ]
  },
  {
   "cell_type": "code",
   "execution_count": 14,
   "id": "34cfe509",
   "metadata": {},
   "outputs": [
    {
     "data": {
      "text/plain": [
       "40028"
      ]
     },
     "execution_count": 14,
     "metadata": {},
     "output_type": "execute_result"
    }
   ],
   "source": [
    "len(episodes1) + len(episodes2)"
   ]
  },
  {
   "cell_type": "code",
   "execution_count": 15,
   "id": "a3cc7ac6",
   "metadata": {},
   "outputs": [
    {
     "name": "stderr",
     "output_type": "stream",
     "text": [
      "Fetching episodes:  54%|████████████████████████████████▉                            | 27/50 [03:22<05:15, 13.71s/show]"
     ]
    },
    {
     "name": "stdout",
     "output_type": "stream",
     "text": [
      "Warning: Unexpected data structure for episode in show_id 4rOoJ6Egrf8K2IrywzwOMk.\n"
     ]
    },
    {
     "name": "stderr",
     "output_type": "stream",
     "text": [
      "\r",
      "Fetching episodes:  56%|██████████████████████████████████▏                          | 28/50 [03:37<05:09, 14.05s/show]"
     ]
    },
    {
     "name": "stdout",
     "output_type": "stream",
     "text": [
      "Warning: Unexpected data structure for episode in show_id 0dyqhiFREKcwk38sd4xjWg.\n"
     ]
    },
    {
     "name": "stderr",
     "output_type": "stream",
     "text": [
      "Fetching episodes: 100%|█████████████████████████████████████████████████████████████| 50/50 [06:03<00:00,  7.27s/show]\n"
     ]
    }
   ],
   "source": [
    "episodes3 = fetch_episodes_for_shows(access_token, all_show_ids[100:150])"
   ]
  },
  {
   "cell_type": "code",
   "execution_count": 16,
   "id": "b5d0856b",
   "metadata": {},
   "outputs": [],
   "source": [
    "# 保存所有episodes到CSV文件\n",
    "save_episodes_to_csv(episodes3, 'all_episodes3.csv')"
   ]
  },
  {
   "cell_type": "code",
   "execution_count": 18,
   "id": "99894796",
   "metadata": {},
   "outputs": [
    {
     "data": {
      "text/plain": [
       "64977"
      ]
     },
     "execution_count": 18,
     "metadata": {},
     "output_type": "execute_result"
    }
   ],
   "source": [
    "len(episodes1) + len(episodes2) + len(episodes3)"
   ]
  },
  {
   "cell_type": "code",
   "execution_count": 19,
   "id": "8f434242",
   "metadata": {},
   "outputs": [
    {
     "name": "stderr",
     "output_type": "stream",
     "text": [
      "Fetching episodes:  92%|████████████████████████████████████████████████████████     | 46/50 [05:11<00:12,  3.04s/show]"
     ]
    },
    {
     "name": "stdout",
     "output_type": "stream",
     "text": [
      "Warning: Unexpected data structure for episode in show_id 4ihhnaWYRQkuX7as37u07s.\n"
     ]
    },
    {
     "name": "stderr",
     "output_type": "stream",
     "text": [
      "Fetching episodes: 100%|█████████████████████████████████████████████████████████████| 50/50 [05:42<00:00,  6.86s/show]\n"
     ]
    }
   ],
   "source": [
    "episodes4 = fetch_episodes_for_shows(access_token, all_show_ids[150:200])"
   ]
  },
  {
   "cell_type": "code",
   "execution_count": 20,
   "id": "c263fd4f",
   "metadata": {},
   "outputs": [],
   "source": [
    "# 保存所有episodes到CSV文件\n",
    "save_episodes_to_csv(episodes4, 'all_episodes4.csv')"
   ]
  },
  {
   "cell_type": "code",
   "execution_count": 21,
   "id": "fe890aff",
   "metadata": {},
   "outputs": [
    {
     "data": {
      "text/plain": [
       "86577"
      ]
     },
     "execution_count": 21,
     "metadata": {},
     "output_type": "execute_result"
    }
   ],
   "source": [
    "len(episodes1) + len(episodes2) + len(episodes3) + len(episodes4)"
   ]
  },
  {
   "cell_type": "code",
   "execution_count": 22,
   "id": "db771e2c",
   "metadata": {},
   "outputs": [
    {
     "name": "stderr",
     "output_type": "stream",
     "text": [
      "Fetching episodes:   6%|███▋                                                          | 3/50 [01:46<36:24, 46.48s/show]"
     ]
    },
    {
     "name": "stdout",
     "output_type": "stream",
     "text": [
      "Warning: Unexpected data structure for episode in show_id 5HT3tYlyW8TJF9KWHQXXtX.\n"
     ]
    },
    {
     "name": "stderr",
     "output_type": "stream",
     "text": [
      "Fetching episodes:  30%|██████████████████▎                                          | 15/50 [03:36<06:46, 11.63s/show]"
     ]
    },
    {
     "name": "stdout",
     "output_type": "stream",
     "text": [
      "Warning: Unexpected data structure for episode in show_id 2kH3ec1ljTia7VmwYsm8Xt.\n",
      "Warning: Unexpected data structure for episode in show_id 2kH3ec1ljTia7VmwYsm8Xt.\n",
      "Warning: Unexpected data structure for episode in show_id 2kH3ec1ljTia7VmwYsm8Xt.\n"
     ]
    },
    {
     "name": "stderr",
     "output_type": "stream",
     "text": [
      "Fetching episodes: 100%|█████████████████████████████████████████████████████████████| 50/50 [05:18<00:00,  6.37s/show]\n"
     ]
    }
   ],
   "source": [
    "episodes5 = fetch_episodes_for_shows(access_token, all_show_ids[200:250])"
   ]
  },
  {
   "cell_type": "code",
   "execution_count": 23,
   "id": "84011d1b",
   "metadata": {},
   "outputs": [],
   "source": [
    "# 保存所有episodes到CSV文件\n",
    "save_episodes_to_csv(episodes5, 'all_episodes5.csv')"
   ]
  },
  {
   "cell_type": "code",
   "execution_count": 24,
   "id": "8140475e",
   "metadata": {},
   "outputs": [
    {
     "data": {
      "text/plain": [
       "105116"
      ]
     },
     "execution_count": 24,
     "metadata": {},
     "output_type": "execute_result"
    }
   ],
   "source": [
    "len(episodes1) + len(episodes2) + len(episodes3) + len(episodes4) + len(episodes5)"
   ]
  },
  {
   "cell_type": "markdown",
   "id": "a2fc509c",
   "metadata": {},
   "source": [
    "换一组密钥"
   ]
  },
  {
   "cell_type": "code",
   "execution_count": 28,
   "id": "2210a144",
   "metadata": {},
   "outputs": [
    {
     "name": "stderr",
     "output_type": "stream",
     "text": [
      "Fetching episodes:   4%|██▍                                                           | 2/50 [00:01<00:52,  1.10s/show]"
     ]
    },
    {
     "name": "stdout",
     "output_type": "stream",
     "text": [
      "Warning: Unexpected data structure for episode in show_id 5eTzsIIlMeamYqJfsvNnuU.\n",
      "Warning: Unexpected data structure for episode in show_id 5eTzsIIlMeamYqJfsvNnuU.\n",
      "Warning: Unexpected data structure for episode in show_id 5eTzsIIlMeamYqJfsvNnuU.\n",
      "Warning: Unexpected data structure for episode in show_id 5eTzsIIlMeamYqJfsvNnuU.\n",
      "Warning: Unexpected data structure for episode in show_id 5eTzsIIlMeamYqJfsvNnuU.\n",
      "Warning: Unexpected data structure for episode in show_id 5eTzsIIlMeamYqJfsvNnuU.\n",
      "Warning: Unexpected data structure for episode in show_id 5eTzsIIlMeamYqJfsvNnuU.\n",
      "Warning: Unexpected data structure for episode in show_id 5eTzsIIlMeamYqJfsvNnuU.\n",
      "Warning: Unexpected data structure for episode in show_id 5eTzsIIlMeamYqJfsvNnuU.\n",
      "Warning: Unexpected data structure for episode in show_id 5eTzsIIlMeamYqJfsvNnuU.\n",
      "Warning: Unexpected data structure for episode in show_id 5eTzsIIlMeamYqJfsvNnuU.\n",
      "Warning: Unexpected data structure for episode in show_id 5eTzsIIlMeamYqJfsvNnuU.\n",
      "Warning: Unexpected data structure for episode in show_id 5eTzsIIlMeamYqJfsvNnuU.\n",
      "Warning: Unexpected data structure for episode in show_id 5eTzsIIlMeamYqJfsvNnuU.\n",
      "Warning: Unexpected data structure for episode in show_id 5eTzsIIlMeamYqJfsvNnuU.\n",
      "Warning: Unexpected data structure for episode in show_id 5eTzsIIlMeamYqJfsvNnuU.\n",
      "Warning: Unexpected data structure for episode in show_id 5eTzsIIlMeamYqJfsvNnuU.\n",
      "Warning: Unexpected data structure for episode in show_id 5eTzsIIlMeamYqJfsvNnuU.\n",
      "Warning: Unexpected data structure for episode in show_id 5eTzsIIlMeamYqJfsvNnuU.\n",
      "Warning: Unexpected data structure for episode in show_id 5eTzsIIlMeamYqJfsvNnuU.\n",
      "Warning: Unexpected data structure for episode in show_id 5eTzsIIlMeamYqJfsvNnuU.\n",
      "Warning: Unexpected data structure for episode in show_id 5eTzsIIlMeamYqJfsvNnuU.\n"
     ]
    },
    {
     "name": "stderr",
     "output_type": "stream",
     "text": [
      "Fetching episodes:  10%|██████▏                                                       | 5/50 [00:04<00:44,  1.01show/s]"
     ]
    },
    {
     "name": "stdout",
     "output_type": "stream",
     "text": [
      "Warning: Unexpected data structure for episode in show_id 5YRYnVnq2xRm3YNdXUVDNu.\n",
      "Warning: Unexpected data structure for episode in show_id 5YRYnVnq2xRm3YNdXUVDNu.\n",
      "Warning: Unexpected data structure for episode in show_id 5YRYnVnq2xRm3YNdXUVDNu.\n",
      "Warning: Unexpected data structure for episode in show_id 5YRYnVnq2xRm3YNdXUVDNu.\n",
      "Warning: Unexpected data structure for episode in show_id 5YRYnVnq2xRm3YNdXUVDNu.\n",
      "Warning: Unexpected data structure for episode in show_id 5YRYnVnq2xRm3YNdXUVDNu.\n",
      "Warning: Unexpected data structure for episode in show_id 5YRYnVnq2xRm3YNdXUVDNu.\n"
     ]
    },
    {
     "name": "stderr",
     "output_type": "stream",
     "text": [
      "Fetching episodes:  48%|█████████████████████████████▎                               | 24/50 [00:13<00:19,  1.33show/s]"
     ]
    },
    {
     "name": "stdout",
     "output_type": "stream",
     "text": [
      "Warning: Unexpected data structure for episode in show_id 2SE2gDgdSxP0tKUwpuHXCo.\n"
     ]
    },
    {
     "name": "stderr",
     "output_type": "stream",
     "text": [
      "Fetching episodes:  78%|███████████████████████████████████████████████▌             | 39/50 [00:19<00:03,  3.66show/s]"
     ]
    },
    {
     "name": "stdout",
     "output_type": "stream",
     "text": [
      "Warning: Unexpected data structure for episode in show_id 1yr9UUExTaxZJqktomu7Gd.\n",
      "Warning: Unexpected data structure for episode in show_id 1yr9UUExTaxZJqktomu7Gd.\n",
      "Warning: Unexpected data structure for episode in show_id 1yr9UUExTaxZJqktomu7Gd.\n",
      "Warning: Unexpected data structure for episode in show_id 1yr9UUExTaxZJqktomu7Gd.\n"
     ]
    },
    {
     "name": "stderr",
     "output_type": "stream",
     "text": [
      "Fetching episodes: 100%|█████████████████████████████████████████████████████████████| 50/50 [00:23<00:00,  2.16show/s]\n"
     ]
    }
   ],
   "source": [
    "episodes6 = fetch_episodes_for_shows(access_token, all_show_ids[250:300])"
   ]
  },
  {
   "cell_type": "code",
   "execution_count": 29,
   "id": "87a092ed",
   "metadata": {},
   "outputs": [],
   "source": [
    "# 保存所有episodes到CSV文件\n",
    "save_episodes_to_csv(episodes6, 'all_episodes6.csv')"
   ]
  },
  {
   "cell_type": "code",
   "execution_count": 30,
   "id": "25762f15",
   "metadata": {},
   "outputs": [
    {
     "data": {
      "text/plain": [
       "2465"
      ]
     },
     "execution_count": 30,
     "metadata": {},
     "output_type": "execute_result"
    }
   ],
   "source": [
    "len(episodes6)"
   ]
  },
  {
   "cell_type": "code",
   "execution_count": 31,
   "id": "95b48c27",
   "metadata": {},
   "outputs": [
    {
     "name": "stderr",
     "output_type": "stream",
     "text": [
      "Fetching episodes:   6%|███▋                                                          | 3/50 [00:26<06:10,  7.88s/show]"
     ]
    },
    {
     "name": "stdout",
     "output_type": "stream",
     "text": [
      "Warning: Unexpected data structure for episode in show_id 1ol0jP8hrNHydiAd38G6B1.\n",
      "Warning: Unexpected data structure for episode in show_id 1ol0jP8hrNHydiAd38G6B1.\n"
     ]
    },
    {
     "name": "stderr",
     "output_type": "stream",
     "text": [
      "Fetching episodes:  60%|████████████████████████████████████▌                        | 30/50 [03:33<03:43, 11.19s/show]"
     ]
    },
    {
     "name": "stdout",
     "output_type": "stream",
     "text": [
      "Warning: Unexpected data structure for episode in show_id 7JzJHYku6KK3iFFYTEX9yt.\n",
      "Warning: Unexpected data structure for episode in show_id 7JzJHYku6KK3iFFYTEX9yt.\n"
     ]
    },
    {
     "name": "stderr",
     "output_type": "stream",
     "text": [
      "Fetching episodes:  68%|█████████████████████████████████████████▍                   | 34/50 [04:22<03:06, 11.68s/show]"
     ]
    },
    {
     "name": "stdout",
     "output_type": "stream",
     "text": [
      "Warning: Unexpected data structure for episode in show_id 1AHSurAGLmYmA8k4J2wuYQ.\n"
     ]
    },
    {
     "name": "stderr",
     "output_type": "stream",
     "text": [
      "Fetching episodes:  76%|██████████████████████████████████████████████▎              | 38/50 [04:47<01:31,  7.60s/show]"
     ]
    },
    {
     "name": "stdout",
     "output_type": "stream",
     "text": [
      "Warning: Unexpected data structure for episode in show_id 5ss1pqMFqWjkOpt6Ag0fZW.\n",
      "Warning: Unexpected data structure for episode in show_id 5ss1pqMFqWjkOpt6Ag0fZW.\n",
      "Warning: Unexpected data structure for episode in show_id 5ss1pqMFqWjkOpt6Ag0fZW.\n"
     ]
    },
    {
     "name": "stderr",
     "output_type": "stream",
     "text": [
      "Fetching episodes: 100%|█████████████████████████████████████████████████████████████| 50/50 [05:14<00:00,  6.29s/show]\n"
     ]
    }
   ],
   "source": [
    "episodes7 = fetch_episodes_for_shows(access_token, all_show_ids[300:350])"
   ]
  },
  {
   "cell_type": "code",
   "execution_count": 32,
   "id": "bf910ed7",
   "metadata": {},
   "outputs": [],
   "source": [
    "# 保存所有episodes到CSV文件\n",
    "save_episodes_to_csv(episodes7, 'all_episodes7.csv')"
   ]
  },
  {
   "cell_type": "code",
   "execution_count": 33,
   "id": "5a0341fb",
   "metadata": {},
   "outputs": [
    {
     "data": {
      "text/plain": [
       "46914"
      ]
     },
     "execution_count": 33,
     "metadata": {},
     "output_type": "execute_result"
    }
   ],
   "source": [
    "len(episodes6) + len(episodes7)"
   ]
  },
  {
   "cell_type": "code",
   "execution_count": 34,
   "id": "bde53284",
   "metadata": {},
   "outputs": [
    {
     "name": "stderr",
     "output_type": "stream",
     "text": [
      "Fetching episodes:  32%|███████████████████▌                                         | 16/50 [00:26<01:28,  2.59s/show]"
     ]
    },
    {
     "name": "stdout",
     "output_type": "stream",
     "text": [
      "Warning: Unexpected data structure for episode in show_id 0yKJ1ARAU7Jx8AyAP1iE04.\n",
      "Warning: Unexpected data structure for episode in show_id 0yKJ1ARAU7Jx8AyAP1iE04.\n",
      "Warning: Unexpected data structure for episode in show_id 0yKJ1ARAU7Jx8AyAP1iE04.\n",
      "Warning: Unexpected data structure for episode in show_id 0yKJ1ARAU7Jx8AyAP1iE04.\n",
      "Warning: Unexpected data structure for episode in show_id 0yKJ1ARAU7Jx8AyAP1iE04.\n",
      "Warning: Unexpected data structure for episode in show_id 0yKJ1ARAU7Jx8AyAP1iE04.\n",
      "Warning: Unexpected data structure for episode in show_id 0yKJ1ARAU7Jx8AyAP1iE04.\n",
      "Warning: Unexpected data structure for episode in show_id 0yKJ1ARAU7Jx8AyAP1iE04.\n",
      "Warning: Unexpected data structure for episode in show_id 0yKJ1ARAU7Jx8AyAP1iE04.\n",
      "Warning: Unexpected data structure for episode in show_id 0yKJ1ARAU7Jx8AyAP1iE04.\n",
      "Warning: Unexpected data structure for episode in show_id 0yKJ1ARAU7Jx8AyAP1iE04.\n",
      "Warning: Unexpected data structure for episode in show_id 0yKJ1ARAU7Jx8AyAP1iE04.\n",
      "Warning: Unexpected data structure for episode in show_id 0yKJ1ARAU7Jx8AyAP1iE04.\n",
      "Warning: Unexpected data structure for episode in show_id 0yKJ1ARAU7Jx8AyAP1iE04.\n",
      "Warning: Unexpected data structure for episode in show_id 0yKJ1ARAU7Jx8AyAP1iE04.\n",
      "Warning: Unexpected data structure for episode in show_id 0yKJ1ARAU7Jx8AyAP1iE04.\n",
      "Warning: Unexpected data structure for episode in show_id 0yKJ1ARAU7Jx8AyAP1iE04.\n",
      "Warning: Unexpected data structure for episode in show_id 0yKJ1ARAU7Jx8AyAP1iE04.\n",
      "Warning: Unexpected data structure for episode in show_id 0yKJ1ARAU7Jx8AyAP1iE04.\n",
      "Warning: Unexpected data structure for episode in show_id 0yKJ1ARAU7Jx8AyAP1iE04.\n",
      "Warning: Unexpected data structure for episode in show_id 0yKJ1ARAU7Jx8AyAP1iE04.\n",
      "Warning: Unexpected data structure for episode in show_id 0yKJ1ARAU7Jx8AyAP1iE04.\n",
      "Warning: Unexpected data structure for episode in show_id 0yKJ1ARAU7Jx8AyAP1iE04.\n",
      "Warning: Unexpected data structure for episode in show_id 0yKJ1ARAU7Jx8AyAP1iE04.\n"
     ]
    },
    {
     "name": "stderr",
     "output_type": "stream",
     "text": [
      "Fetching episodes:  82%|██████████████████████████████████████████████████           | 41/50 [02:55<00:38,  4.25s/show]"
     ]
    },
    {
     "name": "stdout",
     "output_type": "stream",
     "text": [
      "Warning: Unexpected data structure for episode in show_id 4ruq7mH0jg1sFi8KQhnGb8.\n",
      "Warning: Unexpected data structure for episode in show_id 4ruq7mH0jg1sFi8KQhnGb8.\n",
      "Warning: Unexpected data structure for episode in show_id 4ruq7mH0jg1sFi8KQhnGb8.\n",
      "Warning: Unexpected data structure for episode in show_id 4ruq7mH0jg1sFi8KQhnGb8.\n",
      "Warning: Unexpected data structure for episode in show_id 4ruq7mH0jg1sFi8KQhnGb8.\n",
      "Warning: Unexpected data structure for episode in show_id 4ruq7mH0jg1sFi8KQhnGb8.\n",
      "Warning: Unexpected data structure for episode in show_id 4ruq7mH0jg1sFi8KQhnGb8.\n"
     ]
    },
    {
     "name": "stderr",
     "output_type": "stream",
     "text": [
      "Fetching episodes: 100%|█████████████████████████████████████████████████████████████| 50/50 [03:20<00:00,  4.01s/show]\n"
     ]
    }
   ],
   "source": [
    "episodes8 = fetch_episodes_for_shows(access_token, all_show_ids[350:400])"
   ]
  },
  {
   "cell_type": "code",
   "execution_count": 35,
   "id": "f864fd1b",
   "metadata": {},
   "outputs": [],
   "source": [
    "# 保存所有episodes到CSV文件\n",
    "save_episodes_to_csv(episodes8, 'all_episodes8.csv')"
   ]
  },
  {
   "cell_type": "code",
   "execution_count": 36,
   "id": "ec4f1af6",
   "metadata": {},
   "outputs": [
    {
     "data": {
      "text/plain": [
       "73907"
      ]
     },
     "execution_count": 36,
     "metadata": {},
     "output_type": "execute_result"
    }
   ],
   "source": [
    "len(episodes6) + len(episodes7) +  len(episodes8)"
   ]
  },
  {
   "cell_type": "code",
   "execution_count": 37,
   "id": "27379d9d",
   "metadata": {},
   "outputs": [
    {
     "name": "stderr",
     "output_type": "stream",
     "text": [
      "Fetching episodes:  20%|████████████▏                                                | 10/50 [00:51<04:30,  6.76s/show]"
     ]
    },
    {
     "name": "stdout",
     "output_type": "stream",
     "text": [
      "Warning: Unexpected data structure for episode in show_id 72DYxylE1xOfhGWDQBgGkh.\n"
     ]
    },
    {
     "name": "stderr",
     "output_type": "stream",
     "text": [
      "Fetching episodes: 100%|█████████████████████████████████████████████████████████████| 50/50 [03:16<00:00,  3.93s/show]\n"
     ]
    }
   ],
   "source": [
    "episodes9 = fetch_episodes_for_shows(access_token, all_show_ids[400:450])"
   ]
  },
  {
   "cell_type": "code",
   "execution_count": 38,
   "id": "de3740d2",
   "metadata": {},
   "outputs": [],
   "source": [
    "# 保存所有episodes到CSV文件\n",
    "save_episodes_to_csv(episodes9, 'all_episodes9.csv')"
   ]
  },
  {
   "cell_type": "code",
   "execution_count": 39,
   "id": "f95157b5",
   "metadata": {},
   "outputs": [
    {
     "data": {
      "text/plain": [
       "104360"
      ]
     },
     "execution_count": 39,
     "metadata": {},
     "output_type": "execute_result"
    }
   ],
   "source": [
    "len(episodes6) + len(episodes7) + len(episodes8)+ len(episodes9)"
   ]
  },
  {
   "cell_type": "code",
   "execution_count": 40,
   "id": "bbeb5595",
   "metadata": {},
   "outputs": [
    {
     "name": "stderr",
     "output_type": "stream",
     "text": [
      "Fetching episodes:  38%|███████████████████████▏                                     | 19/50 [00:19<01:12,  2.35s/show]"
     ]
    },
    {
     "name": "stdout",
     "output_type": "stream",
     "text": [
      "Warning: Unexpected data structure for episode in show_id 7lWwL4gxw5jZeWHTMPSIOO.\n"
     ]
    },
    {
     "name": "stderr",
     "output_type": "stream",
     "text": [
      "Fetching episodes:  44%|██████████████████████████▊                                  | 22/50 [00:22<00:38,  1.38s/show]"
     ]
    },
    {
     "name": "stdout",
     "output_type": "stream",
     "text": [
      "Warning: Unexpected data structure for episode in show_id 4UQ62kQXBESrcWnhcZ6PfZ.\n",
      "Warning: Unexpected data structure for episode in show_id 4UQ62kQXBESrcWnhcZ6PfZ.\n",
      "Warning: Unexpected data structure for episode in show_id 4UQ62kQXBESrcWnhcZ6PfZ.\n",
      "Warning: Unexpected data structure for episode in show_id 4UQ62kQXBESrcWnhcZ6PfZ.\n",
      "Warning: Unexpected data structure for episode in show_id 4UQ62kQXBESrcWnhcZ6PfZ.\n"
     ]
    },
    {
     "name": "stderr",
     "output_type": "stream",
     "text": [
      "Fetching episodes:  56%|██████████████████████████████████▏                          | 28/50 [00:28<00:24,  1.10s/show]"
     ]
    },
    {
     "name": "stdout",
     "output_type": "stream",
     "text": [
      "Warning: Unexpected data structure for episode in show_id 3pEzd7t3niBGukkjETfVre.\n",
      "Warning: Unexpected data structure for episode in show_id 3pEzd7t3niBGukkjETfVre.\n",
      "Warning: Unexpected data structure for episode in show_id 3pEzd7t3niBGukkjETfVre.\n",
      "Warning: Unexpected data structure for episode in show_id 3pEzd7t3niBGukkjETfVre.\n",
      "Warning: Unexpected data structure for episode in show_id 3pEzd7t3niBGukkjETfVre.\n",
      "Warning: Unexpected data structure for episode in show_id 3pEzd7t3niBGukkjETfVre.\n",
      "Warning: Unexpected data structure for episode in show_id 3pEzd7t3niBGukkjETfVre.\n",
      "Warning: Unexpected data structure for episode in show_id 3pEzd7t3niBGukkjETfVre.\n",
      "Warning: Unexpected data structure for episode in show_id 3pEzd7t3niBGukkjETfVre.\n",
      "Warning: Unexpected data structure for episode in show_id 3pEzd7t3niBGukkjETfVre.\n",
      "Warning: Unexpected data structure for episode in show_id 3pEzd7t3niBGukkjETfVre.\n",
      "Warning: Unexpected data structure for episode in show_id 3pEzd7t3niBGukkjETfVre.\n",
      "Warning: Unexpected data structure for episode in show_id 3pEzd7t3niBGukkjETfVre.\n",
      "Warning: Unexpected data structure for episode in show_id 3pEzd7t3niBGukkjETfVre.\n",
      "Warning: Unexpected data structure for episode in show_id 3pEzd7t3niBGukkjETfVre.\n",
      "Warning: Unexpected data structure for episode in show_id 3pEzd7t3niBGukkjETfVre.\n",
      "Warning: Unexpected data structure for episode in show_id 3pEzd7t3niBGukkjETfVre.\n",
      "Warning: Unexpected data structure for episode in show_id 3pEzd7t3niBGukkjETfVre.\n"
     ]
    },
    {
     "name": "stderr",
     "output_type": "stream",
     "text": [
      "Fetching episodes:  70%|██████████████████████████████████████████▋                  | 35/50 [00:43<00:26,  1.76s/show]"
     ]
    },
    {
     "name": "stdout",
     "output_type": "stream",
     "text": [
      "Warning: Unexpected data structure for episode in show_id 30xp8PtAdhiSbencpL7wWM.\n",
      "Warning: Unexpected data structure for episode in show_id 30xp8PtAdhiSbencpL7wWM.\n",
      "Warning: Unexpected data structure for episode in show_id 30xp8PtAdhiSbencpL7wWM.\n",
      "Warning: Unexpected data structure for episode in show_id 30xp8PtAdhiSbencpL7wWM.\n",
      "Warning: Unexpected data structure for episode in show_id 30xp8PtAdhiSbencpL7wWM.\n",
      "Warning: Unexpected data structure for episode in show_id 30xp8PtAdhiSbencpL7wWM.\n"
     ]
    },
    {
     "name": "stderr",
     "output_type": "stream",
     "text": [
      "Fetching episodes:  88%|█████████████████████████████████████████████████████▋       | 44/50 [00:51<00:04,  1.41show/s]"
     ]
    },
    {
     "name": "stdout",
     "output_type": "stream",
     "text": [
      "Warning: Unexpected data structure for episode in show_id 1BBvil8MWnvm4yXyr0xMJl.\n",
      "Warning: Unexpected data structure for episode in show_id 1BBvil8MWnvm4yXyr0xMJl.\n",
      "Warning: Unexpected data structure for episode in show_id 1BBvil8MWnvm4yXyr0xMJl.\n",
      "Warning: Unexpected data structure for episode in show_id 1BBvil8MWnvm4yXyr0xMJl.\n",
      "Warning: Unexpected data structure for episode in show_id 1BBvil8MWnvm4yXyr0xMJl.\n",
      "Warning: Unexpected data structure for episode in show_id 1BBvil8MWnvm4yXyr0xMJl.\n",
      "Warning: Unexpected data structure for episode in show_id 1BBvil8MWnvm4yXyr0xMJl.\n",
      "Warning: Unexpected data structure for episode in show_id 1BBvil8MWnvm4yXyr0xMJl.\n",
      "Warning: Unexpected data structure for episode in show_id 1BBvil8MWnvm4yXyr0xMJl.\n",
      "Warning: Unexpected data structure for episode in show_id 1BBvil8MWnvm4yXyr0xMJl.\n",
      "Warning: Unexpected data structure for episode in show_id 1BBvil8MWnvm4yXyr0xMJl.\n",
      "Warning: Unexpected data structure for episode in show_id 1BBvil8MWnvm4yXyr0xMJl.\n",
      "Warning: Unexpected data structure for episode in show_id 1BBvil8MWnvm4yXyr0xMJl.\n"
     ]
    },
    {
     "name": "stderr",
     "output_type": "stream",
     "text": [
      "Fetching episodes: 100%|█████████████████████████████████████████████████████████████| 50/50 [00:59<00:00,  1.19s/show]\n"
     ]
    }
   ],
   "source": [
    "episodes10 = fetch_episodes_for_shows(access_token, all_show_ids[450:500])"
   ]
  },
  {
   "cell_type": "code",
   "execution_count": 41,
   "id": "db630114",
   "metadata": {},
   "outputs": [],
   "source": [
    "# 保存所有episodes到CSV文件\n",
    "save_episodes_to_csv(episodes10, 'all_episodes10.csv')"
   ]
  },
  {
   "cell_type": "code",
   "execution_count": 42,
   "id": "1472fbe6",
   "metadata": {},
   "outputs": [
    {
     "data": {
      "text/plain": [
       "114090"
      ]
     },
     "execution_count": 42,
     "metadata": {},
     "output_type": "execute_result"
    }
   ],
   "source": [
    "len(episodes6) + len(episodes7) + len(episodes8)+ len(episodes9) + len(episodes10) "
   ]
  },
  {
   "cell_type": "markdown",
   "id": "de7fcfae",
   "metadata": {},
   "source": [
    "换一组密钥"
   ]
  },
  {
   "cell_type": "code",
   "execution_count": 45,
   "id": "58c45d0d",
   "metadata": {},
   "outputs": [
    {
     "name": "stderr",
     "output_type": "stream",
     "text": [
      "Fetching episodes:   8%|████▉                                                         | 4/50 [00:22<03:16,  4.26s/show]"
     ]
    },
    {
     "name": "stdout",
     "output_type": "stream",
     "text": [
      "Warning: Unexpected data structure for episode in show_id 2cbFBzf9sZFYFj5dCJykQR.\n"
     ]
    },
    {
     "name": "stderr",
     "output_type": "stream",
     "text": [
      "Fetching episodes:  56%|██████████████████████████████████▏                          | 28/50 [01:02<00:34,  1.58s/show]"
     ]
    },
    {
     "name": "stdout",
     "output_type": "stream",
     "text": [
      "Warning: Unexpected data structure for episode in show_id 5VzFvh1JlEhBMS6ZHZ8CNO.\n",
      "Warning: Unexpected data structure for episode in show_id 5VzFvh1JlEhBMS6ZHZ8CNO.\n",
      "Warning: Unexpected data structure for episode in show_id 5VzFvh1JlEhBMS6ZHZ8CNO.\n",
      "Warning: Unexpected data structure for episode in show_id 5VzFvh1JlEhBMS6ZHZ8CNO.\n",
      "Warning: Unexpected data structure for episode in show_id 5VzFvh1JlEhBMS6ZHZ8CNO.\n"
     ]
    },
    {
     "name": "stderr",
     "output_type": "stream",
     "text": [
      "Fetching episodes: 100%|█████████████████████████████████████████████████████████████| 50/50 [01:28<00:00,  1.76s/show]\n"
     ]
    }
   ],
   "source": [
    "episodes11 = fetch_episodes_for_shows(access_token, all_show_ids[500:550])"
   ]
  },
  {
   "cell_type": "code",
   "execution_count": 46,
   "id": "8398254c",
   "metadata": {},
   "outputs": [],
   "source": [
    "# 保存所有episodes到CSV文件\n",
    "save_episodes_to_csv(episodes11, 'all_episodes11.csv')"
   ]
  },
  {
   "cell_type": "code",
   "execution_count": 47,
   "id": "25c6dfe9",
   "metadata": {},
   "outputs": [
    {
     "data": {
      "text/plain": [
       "13158"
      ]
     },
     "execution_count": 47,
     "metadata": {},
     "output_type": "execute_result"
    }
   ],
   "source": [
    "len(episodes11) "
   ]
  },
  {
   "cell_type": "code",
   "execution_count": 48,
   "id": "66d7ef4f",
   "metadata": {},
   "outputs": [
    {
     "name": "stderr",
     "output_type": "stream",
     "text": [
      "Fetching episodes: 100%|█████████████████████████████████████████████████████████████| 50/50 [01:49<00:00,  2.20s/show]\n"
     ]
    }
   ],
   "source": [
    "episodes12 = fetch_episodes_for_shows(access_token, all_show_ids[550:600])"
   ]
  },
  {
   "cell_type": "code",
   "execution_count": 49,
   "id": "47c1ac18",
   "metadata": {},
   "outputs": [],
   "source": [
    "# 保存所有episodes到CSV文件\n",
    "save_episodes_to_csv(episodes12, 'all_episodes12.csv')"
   ]
  },
  {
   "cell_type": "code",
   "execution_count": 50,
   "id": "5d1e3d99",
   "metadata": {},
   "outputs": [
    {
     "data": {
      "text/plain": [
       "31043"
      ]
     },
     "execution_count": 50,
     "metadata": {},
     "output_type": "execute_result"
    }
   ],
   "source": [
    "len(episodes11) + len(episodes12)"
   ]
  },
  {
   "cell_type": "code",
   "execution_count": 51,
   "id": "887a56e4",
   "metadata": {},
   "outputs": [
    {
     "name": "stderr",
     "output_type": "stream",
     "text": [
      "Fetching episodes:  48%|█████████████████████████████▎                               | 24/50 [00:55<00:55,  2.15s/show]"
     ]
    },
    {
     "name": "stdout",
     "output_type": "stream",
     "text": [
      "Warning: Unexpected data structure for episode in show_id 4ruq7mH0jg1sFi8KQhnGb8.\n",
      "Warning: Unexpected data structure for episode in show_id 4ruq7mH0jg1sFi8KQhnGb8.\n",
      "Warning: Unexpected data structure for episode in show_id 4ruq7mH0jg1sFi8KQhnGb8.\n",
      "Warning: Unexpected data structure for episode in show_id 4ruq7mH0jg1sFi8KQhnGb8.\n",
      "Warning: Unexpected data structure for episode in show_id 4ruq7mH0jg1sFi8KQhnGb8.\n",
      "Warning: Unexpected data structure for episode in show_id 4ruq7mH0jg1sFi8KQhnGb8.\n",
      "Warning: Unexpected data structure for episode in show_id 4ruq7mH0jg1sFi8KQhnGb8.\n"
     ]
    },
    {
     "name": "stderr",
     "output_type": "stream",
     "text": [
      "Fetching episodes:  60%|████████████████████████████████████▌                        | 30/50 [02:12<06:15, 18.78s/show]"
     ]
    },
    {
     "name": "stdout",
     "output_type": "stream",
     "text": [
      "Warning: Unexpected data structure for episode in show_id 6VpHvCRX4pnWhzsVATTmMw.\n",
      "Warning: Unexpected data structure for episode in show_id 6VpHvCRX4pnWhzsVATTmMw.\n",
      "Warning: Unexpected data structure for episode in show_id 6VpHvCRX4pnWhzsVATTmMw.\n",
      "Warning: Unexpected data structure for episode in show_id 6VpHvCRX4pnWhzsVATTmMw.\n",
      "Warning: Unexpected data structure for episode in show_id 6VpHvCRX4pnWhzsVATTmMw.\n",
      "Warning: Unexpected data structure for episode in show_id 6VpHvCRX4pnWhzsVATTmMw.\n",
      "Warning: Unexpected data structure for episode in show_id 6VpHvCRX4pnWhzsVATTmMw.\n",
      "Warning: Unexpected data structure for episode in show_id 6VpHvCRX4pnWhzsVATTmMw.\n",
      "Warning: Unexpected data structure for episode in show_id 6VpHvCRX4pnWhzsVATTmMw.\n",
      "Warning: Unexpected data structure for episode in show_id 6VpHvCRX4pnWhzsVATTmMw.\n",
      "Warning: Unexpected data structure for episode in show_id 6VpHvCRX4pnWhzsVATTmMw.\n",
      "Warning: Unexpected data structure for episode in show_id 6VpHvCRX4pnWhzsVATTmMw.\n",
      "Warning: Unexpected data structure for episode in show_id 6VpHvCRX4pnWhzsVATTmMw.\n",
      "Warning: Unexpected data structure for episode in show_id 6VpHvCRX4pnWhzsVATTmMw.\n",
      "Warning: Unexpected data structure for episode in show_id 6VpHvCRX4pnWhzsVATTmMw.\n",
      "Warning: Unexpected data structure for episode in show_id 6VpHvCRX4pnWhzsVATTmMw.\n",
      "Warning: Unexpected data structure for episode in show_id 6VpHvCRX4pnWhzsVATTmMw.\n",
      "Warning: Unexpected data structure for episode in show_id 6VpHvCRX4pnWhzsVATTmMw.\n",
      "Warning: Unexpected data structure for episode in show_id 6VpHvCRX4pnWhzsVATTmMw.\n",
      "Warning: Unexpected data structure for episode in show_id 6VpHvCRX4pnWhzsVATTmMw.\n",
      "Warning: Unexpected data structure for episode in show_id 6VpHvCRX4pnWhzsVATTmMw.\n",
      "Warning: Unexpected data structure for episode in show_id 6VpHvCRX4pnWhzsVATTmMw.\n",
      "Warning: Unexpected data structure for episode in show_id 6VpHvCRX4pnWhzsVATTmMw.\n",
      "Warning: Unexpected data structure for episode in show_id 6VpHvCRX4pnWhzsVATTmMw.\n",
      "Warning: Unexpected data structure for episode in show_id 6VpHvCRX4pnWhzsVATTmMw.\n",
      "Warning: Unexpected data structure for episode in show_id 6VpHvCRX4pnWhzsVATTmMw.\n",
      "Warning: Unexpected data structure for episode in show_id 6VpHvCRX4pnWhzsVATTmMw.\n",
      "Warning: Unexpected data structure for episode in show_id 6VpHvCRX4pnWhzsVATTmMw.\n",
      "Warning: Unexpected data structure for episode in show_id 6VpHvCRX4pnWhzsVATTmMw.\n",
      "Warning: Unexpected data structure for episode in show_id 6VpHvCRX4pnWhzsVATTmMw.\n",
      "Warning: Unexpected data structure for episode in show_id 6VpHvCRX4pnWhzsVATTmMw.\n",
      "Warning: Unexpected data structure for episode in show_id 6VpHvCRX4pnWhzsVATTmMw.\n",
      "Warning: Unexpected data structure for episode in show_id 6VpHvCRX4pnWhzsVATTmMw.\n",
      "Warning: Unexpected data structure for episode in show_id 6VpHvCRX4pnWhzsVATTmMw.\n",
      "Warning: Unexpected data structure for episode in show_id 6VpHvCRX4pnWhzsVATTmMw.\n",
      "Warning: Unexpected data structure for episode in show_id 6VpHvCRX4pnWhzsVATTmMw.\n",
      "Warning: Unexpected data structure for episode in show_id 6VpHvCRX4pnWhzsVATTmMw.\n",
      "Warning: Unexpected data structure for episode in show_id 6VpHvCRX4pnWhzsVATTmMw.\n",
      "Warning: Unexpected data structure for episode in show_id 6VpHvCRX4pnWhzsVATTmMw.\n",
      "Warning: Unexpected data structure for episode in show_id 6VpHvCRX4pnWhzsVATTmMw.\n",
      "Warning: Unexpected data structure for episode in show_id 6VpHvCRX4pnWhzsVATTmMw.\n",
      "Warning: Unexpected data structure for episode in show_id 6VpHvCRX4pnWhzsVATTmMw.\n",
      "Warning: Unexpected data structure for episode in show_id 6VpHvCRX4pnWhzsVATTmMw.\n",
      "Warning: Unexpected data structure for episode in show_id 6VpHvCRX4pnWhzsVATTmMw.\n",
      "Warning: Unexpected data structure for episode in show_id 6VpHvCRX4pnWhzsVATTmMw.\n",
      "Warning: Unexpected data structure for episode in show_id 6VpHvCRX4pnWhzsVATTmMw.\n",
      "Warning: Unexpected data structure for episode in show_id 6VpHvCRX4pnWhzsVATTmMw.\n",
      "Warning: Unexpected data structure for episode in show_id 6VpHvCRX4pnWhzsVATTmMw.\n",
      "Warning: Unexpected data structure for episode in show_id 6VpHvCRX4pnWhzsVATTmMw.\n",
      "Warning: Unexpected data structure for episode in show_id 6VpHvCRX4pnWhzsVATTmMw.\n",
      "Warning: Unexpected data structure for episode in show_id 6VpHvCRX4pnWhzsVATTmMw.\n",
      "Warning: Unexpected data structure for episode in show_id 6VpHvCRX4pnWhzsVATTmMw.\n",
      "Warning: Unexpected data structure for episode in show_id 6VpHvCRX4pnWhzsVATTmMw.\n",
      "Warning: Unexpected data structure for episode in show_id 6VpHvCRX4pnWhzsVATTmMw.\n",
      "Warning: Unexpected data structure for episode in show_id 6VpHvCRX4pnWhzsVATTmMw.\n",
      "Warning: Unexpected data structure for episode in show_id 6VpHvCRX4pnWhzsVATTmMw.\n",
      "Warning: Unexpected data structure for episode in show_id 6VpHvCRX4pnWhzsVATTmMw.\n",
      "Warning: Unexpected data structure for episode in show_id 6VpHvCRX4pnWhzsVATTmMw.\n",
      "Warning: Unexpected data structure for episode in show_id 6VpHvCRX4pnWhzsVATTmMw.\n",
      "Warning: Unexpected data structure for episode in show_id 6VpHvCRX4pnWhzsVATTmMw.\n",
      "Warning: Unexpected data structure for episode in show_id 6VpHvCRX4pnWhzsVATTmMw.\n",
      "Warning: Unexpected data structure for episode in show_id 6VpHvCRX4pnWhzsVATTmMw.\n",
      "Warning: Unexpected data structure for episode in show_id 6VpHvCRX4pnWhzsVATTmMw.\n",
      "Warning: Unexpected data structure for episode in show_id 6VpHvCRX4pnWhzsVATTmMw.\n",
      "Warning: Unexpected data structure for episode in show_id 6VpHvCRX4pnWhzsVATTmMw.\n",
      "Warning: Unexpected data structure for episode in show_id 6VpHvCRX4pnWhzsVATTmMw.\n",
      "Warning: Unexpected data structure for episode in show_id 6VpHvCRX4pnWhzsVATTmMw.\n",
      "Warning: Unexpected data structure for episode in show_id 6VpHvCRX4pnWhzsVATTmMw.\n",
      "Warning: Unexpected data structure for episode in show_id 6VpHvCRX4pnWhzsVATTmMw.\n",
      "Warning: Unexpected data structure for episode in show_id 6VpHvCRX4pnWhzsVATTmMw.\n",
      "Warning: Unexpected data structure for episode in show_id 6VpHvCRX4pnWhzsVATTmMw.\n",
      "Warning: Unexpected data structure for episode in show_id 6VpHvCRX4pnWhzsVATTmMw.\n",
      "Warning: Unexpected data structure for episode in show_id 6VpHvCRX4pnWhzsVATTmMw.\n",
      "Warning: Unexpected data structure for episode in show_id 6VpHvCRX4pnWhzsVATTmMw.\n",
      "Warning: Unexpected data structure for episode in show_id 6VpHvCRX4pnWhzsVATTmMw.\n",
      "Warning: Unexpected data structure for episode in show_id 6VpHvCRX4pnWhzsVATTmMw.\n"
     ]
    },
    {
     "name": "stderr",
     "output_type": "stream",
     "text": [
      "Fetching episodes:  70%|██████████████████████████████████████████▋                  | 35/50 [02:20<01:08,  4.58s/show]"
     ]
    },
    {
     "name": "stdout",
     "output_type": "stream",
     "text": [
      "Warning: Unexpected data structure for episode in show_id 0YjpQm8JdB8HX1FLyIWgw7.\n"
     ]
    },
    {
     "name": "stderr",
     "output_type": "stream",
     "text": [
      "Fetching episodes:  80%|████████████████████████████████████████████████▊            | 40/50 [02:24<00:13,  1.31s/show]"
     ]
    },
    {
     "name": "stdout",
     "output_type": "stream",
     "text": [
      "Warning: Unexpected data structure for episode in show_id 5f7y1Cmp6HbeDBWVnz7wWs.\n",
      "Warning: Unexpected data structure for episode in show_id 5f7y1Cmp6HbeDBWVnz7wWs.\n"
     ]
    },
    {
     "name": "stderr",
     "output_type": "stream",
     "text": [
      "Fetching episodes: 100%|█████████████████████████████████████████████████████████████| 50/50 [02:36<00:00,  3.12s/show]\n"
     ]
    }
   ],
   "source": [
    "episodes13 = fetch_episodes_for_shows(access_token, all_show_ids[600:650])"
   ]
  },
  {
   "cell_type": "code",
   "execution_count": 52,
   "id": "5f90e9eb",
   "metadata": {},
   "outputs": [],
   "source": [
    "# 保存所有episodes到CSV文件\n",
    "save_episodes_to_csv(episodes13, 'all_episodes13.csv')"
   ]
  },
  {
   "cell_type": "code",
   "execution_count": 53,
   "id": "5c1bb711",
   "metadata": {},
   "outputs": [
    {
     "data": {
      "text/plain": [
       "54425"
      ]
     },
     "execution_count": 53,
     "metadata": {},
     "output_type": "execute_result"
    }
   ],
   "source": [
    "len(episodes11) + len(episodes12) + len(episodes13)"
   ]
  },
  {
   "cell_type": "code",
   "execution_count": 54,
   "id": "6be74a96",
   "metadata": {},
   "outputs": [
    {
     "name": "stderr",
     "output_type": "stream",
     "text": [
      "Fetching episodes:  20%|████████████▏                                                | 10/50 [00:23<01:38,  2.46s/show]"
     ]
    },
    {
     "name": "stdout",
     "output_type": "stream",
     "text": [
      "Warning: Unexpected data structure for episode in show_id 4ruq7mH0jg1sFi8KQhnGb8.\n",
      "Warning: Unexpected data structure for episode in show_id 4ruq7mH0jg1sFi8KQhnGb8.\n",
      "Warning: Unexpected data structure for episode in show_id 4ruq7mH0jg1sFi8KQhnGb8.\n",
      "Warning: Unexpected data structure for episode in show_id 4ruq7mH0jg1sFi8KQhnGb8.\n",
      "Warning: Unexpected data structure for episode in show_id 4ruq7mH0jg1sFi8KQhnGb8.\n",
      "Warning: Unexpected data structure for episode in show_id 4ruq7mH0jg1sFi8KQhnGb8.\n",
      "Warning: Unexpected data structure for episode in show_id 4ruq7mH0jg1sFi8KQhnGb8.\n"
     ]
    },
    {
     "name": "stderr",
     "output_type": "stream",
     "text": [
      "Fetching episodes:  80%|████████████████████████████████████████████████▊            | 40/50 [01:03<00:05,  1.73show/s]"
     ]
    },
    {
     "name": "stdout",
     "output_type": "stream",
     "text": [
      "Warning: Unexpected data structure for episode in show_id 6zDVtsctjbO1OWeeL3iXXN.\n",
      "Warning: Unexpected data structure for episode in show_id 6zDVtsctjbO1OWeeL3iXXN.\n",
      "Warning: Unexpected data structure for episode in show_id 6zDVtsctjbO1OWeeL3iXXN.\n",
      "Warning: Unexpected data structure for episode in show_id 6zDVtsctjbO1OWeeL3iXXN.\n",
      "Warning: Unexpected data structure for episode in show_id 6zDVtsctjbO1OWeeL3iXXN.\n",
      "Warning: Unexpected data structure for episode in show_id 6zDVtsctjbO1OWeeL3iXXN.\n",
      "Warning: Unexpected data structure for episode in show_id 6zDVtsctjbO1OWeeL3iXXN.\n",
      "Warning: Unexpected data structure for episode in show_id 6zDVtsctjbO1OWeeL3iXXN.\n"
     ]
    },
    {
     "name": "stderr",
     "output_type": "stream",
     "text": [
      "Fetching episodes: 100%|█████████████████████████████████████████████████████████████| 50/50 [01:42<00:00,  2.04s/show]\n"
     ]
    }
   ],
   "source": [
    "episodes14 = fetch_episodes_for_shows(access_token, all_show_ids[650:700])"
   ]
  },
  {
   "cell_type": "code",
   "execution_count": 55,
   "id": "bcf04bc9",
   "metadata": {},
   "outputs": [],
   "source": [
    "# 保存所有episodes到CSV文件\n",
    "save_episodes_to_csv(episodes14, 'all_episodes14.csv')"
   ]
  },
  {
   "cell_type": "code",
   "execution_count": 56,
   "id": "ca8ba46a",
   "metadata": {},
   "outputs": [
    {
     "data": {
      "text/plain": [
       "70037"
      ]
     },
     "execution_count": 56,
     "metadata": {},
     "output_type": "execute_result"
    }
   ],
   "source": [
    "len(episodes11) + len(episodes12) + len(episodes13) + len(episodes14)"
   ]
  },
  {
   "cell_type": "code",
   "execution_count": 57,
   "id": "ab55803b",
   "metadata": {},
   "outputs": [
    {
     "name": "stderr",
     "output_type": "stream",
     "text": [
      "Fetching episodes:  54%|████████████████████████████████▉                            | 27/50 [01:04<00:38,  1.67s/show]"
     ]
    },
    {
     "name": "stdout",
     "output_type": "stream",
     "text": [
      "Warning: Unexpected data structure for episode in show_id 1gtOt4yUGUZNEzJsy2q8Cb.\n"
     ]
    },
    {
     "name": "stderr",
     "output_type": "stream",
     "text": [
      "Fetching episodes:  68%|█████████████████████████████████████████▍                   | 34/50 [01:41<02:38,  9.89s/show]"
     ]
    },
    {
     "name": "stdout",
     "output_type": "stream",
     "text": [
      "Warning: Unexpected data structure for episode in show_id 2rK4sKQ6xANiTLXhyKdVvp.\n",
      "Warning: Unexpected data structure for episode in show_id 2rK4sKQ6xANiTLXhyKdVvp.\n"
     ]
    },
    {
     "name": "stderr",
     "output_type": "stream",
     "text": [
      "Fetching episodes:  74%|█████████████████████████████████████████████▏               | 37/50 [02:40<03:45, 17.38s/show]"
     ]
    },
    {
     "name": "stdout",
     "output_type": "stream",
     "text": [
      "Warning: Unexpected data structure for episode in show_id 3ljAZqaEXyT2MAC8hfO0cR.\n",
      "Warning: Unexpected data structure for episode in show_id 3ljAZqaEXyT2MAC8hfO0cR.\n",
      "Warning: Unexpected data structure for episode in show_id 3ljAZqaEXyT2MAC8hfO0cR.\n",
      "Warning: Unexpected data structure for episode in show_id 3ljAZqaEXyT2MAC8hfO0cR.\n"
     ]
    },
    {
     "name": "stderr",
     "output_type": "stream",
     "text": [
      "Fetching episodes: 100%|█████████████████████████████████████████████████████████████| 50/50 [03:35<00:00,  4.32s/show]\n"
     ]
    }
   ],
   "source": [
    "episodes15 = fetch_episodes_for_shows(access_token, all_show_ids[700:750])"
   ]
  },
  {
   "cell_type": "code",
   "execution_count": 58,
   "id": "6b5a5f4e",
   "metadata": {},
   "outputs": [],
   "source": [
    "# 保存所有episodes到CSV文件\n",
    "save_episodes_to_csv(episodes15, 'all_episodes15.csv')"
   ]
  },
  {
   "cell_type": "code",
   "execution_count": 59,
   "id": "3e2b4faa",
   "metadata": {},
   "outputs": [
    {
     "data": {
      "text/plain": [
       "104121"
      ]
     },
     "execution_count": 59,
     "metadata": {},
     "output_type": "execute_result"
    }
   ],
   "source": [
    "len(episodes11) + len(episodes12) + len(episodes13) + len(episodes14) + len(episodes15) "
   ]
  },
  {
   "cell_type": "markdown",
   "id": "92e91cb2",
   "metadata": {},
   "source": [
    "换一组密钥"
   ]
  },
  {
   "cell_type": "code",
   "execution_count": 62,
   "id": "33aa9033",
   "metadata": {},
   "outputs": [
    {
     "name": "stderr",
     "output_type": "stream",
     "text": [
      "Fetching episodes:  32%|███████████████████▌                                         | 16/50 [00:35<01:52,  3.31s/show]"
     ]
    },
    {
     "name": "stdout",
     "output_type": "stream",
     "text": [
      "Warning: Unexpected data structure for episode in show_id 3LXqtYWmzDfTA4SwALoXhI.\n",
      "Warning: Unexpected data structure for episode in show_id 3LXqtYWmzDfTA4SwALoXhI.\n",
      "Warning: Unexpected data structure for episode in show_id 3LXqtYWmzDfTA4SwALoXhI.\n"
     ]
    },
    {
     "name": "stderr",
     "output_type": "stream",
     "text": [
      "Fetching episodes:  58%|███████████████████████████████████▍                         | 29/50 [00:48<00:20,  1.01show/s]"
     ]
    },
    {
     "name": "stdout",
     "output_type": "stream",
     "text": [
      "Warning: Unexpected data structure for episode in show_id 45KjN88SuxpCMOEnbNkrE1.\n"
     ]
    },
    {
     "name": "stderr",
     "output_type": "stream",
     "text": [
      "Fetching episodes:  62%|█████████████████████████████████████▊                       | 31/50 [00:49<00:17,  1.09show/s]"
     ]
    },
    {
     "name": "stdout",
     "output_type": "stream",
     "text": [
      "Warning: Unexpected data structure for episode in show_id 0DXvBRYV1lNPbqxlZf41lf.\n"
     ]
    },
    {
     "name": "stderr",
     "output_type": "stream",
     "text": [
      "\r",
      "Fetching episodes:  64%|███████████████████████████████████████                      | 32/50 [00:51<00:18,  1.03s/show]"
     ]
    },
    {
     "name": "stdout",
     "output_type": "stream",
     "text": [
      "Warning: Unexpected data structure for episode in show_id 2vqQNb239mIHvClE5n66Bo.\n"
     ]
    },
    {
     "name": "stderr",
     "output_type": "stream",
     "text": [
      "Fetching episodes:  82%|██████████████████████████████████████████████████           | 41/50 [01:05<00:12,  1.35s/show]"
     ]
    },
    {
     "name": "stdout",
     "output_type": "stream",
     "text": [
      "Warning: Unexpected data structure for episode in show_id 5eTzsIIlMeamYqJfsvNnuU.\n",
      "Warning: Unexpected data structure for episode in show_id 5eTzsIIlMeamYqJfsvNnuU.\n",
      "Warning: Unexpected data structure for episode in show_id 5eTzsIIlMeamYqJfsvNnuU.\n",
      "Warning: Unexpected data structure for episode in show_id 5eTzsIIlMeamYqJfsvNnuU.\n",
      "Warning: Unexpected data structure for episode in show_id 5eTzsIIlMeamYqJfsvNnuU.\n",
      "Warning: Unexpected data structure for episode in show_id 5eTzsIIlMeamYqJfsvNnuU.\n",
      "Warning: Unexpected data structure for episode in show_id 5eTzsIIlMeamYqJfsvNnuU.\n",
      "Warning: Unexpected data structure for episode in show_id 5eTzsIIlMeamYqJfsvNnuU.\n",
      "Warning: Unexpected data structure for episode in show_id 5eTzsIIlMeamYqJfsvNnuU.\n",
      "Warning: Unexpected data structure for episode in show_id 5eTzsIIlMeamYqJfsvNnuU.\n",
      "Warning: Unexpected data structure for episode in show_id 5eTzsIIlMeamYqJfsvNnuU.\n",
      "Warning: Unexpected data structure for episode in show_id 5eTzsIIlMeamYqJfsvNnuU.\n",
      "Warning: Unexpected data structure for episode in show_id 5eTzsIIlMeamYqJfsvNnuU.\n",
      "Warning: Unexpected data structure for episode in show_id 5eTzsIIlMeamYqJfsvNnuU.\n",
      "Warning: Unexpected data structure for episode in show_id 5eTzsIIlMeamYqJfsvNnuU.\n",
      "Warning: Unexpected data structure for episode in show_id 5eTzsIIlMeamYqJfsvNnuU.\n",
      "Warning: Unexpected data structure for episode in show_id 5eTzsIIlMeamYqJfsvNnuU.\n",
      "Warning: Unexpected data structure for episode in show_id 5eTzsIIlMeamYqJfsvNnuU.\n",
      "Warning: Unexpected data structure for episode in show_id 5eTzsIIlMeamYqJfsvNnuU.\n",
      "Warning: Unexpected data structure for episode in show_id 5eTzsIIlMeamYqJfsvNnuU.\n",
      "Warning: Unexpected data structure for episode in show_id 5eTzsIIlMeamYqJfsvNnuU.\n",
      "Warning: Unexpected data structure for episode in show_id 5eTzsIIlMeamYqJfsvNnuU.\n"
     ]
    },
    {
     "name": "stderr",
     "output_type": "stream",
     "text": [
      "Fetching episodes: 100%|█████████████████████████████████████████████████████████████| 50/50 [01:23<00:00,  1.67s/show]\n"
     ]
    }
   ],
   "source": [
    "episodes16 = fetch_episodes_for_shows(access_token, all_show_ids[750:800])"
   ]
  },
  {
   "cell_type": "code",
   "execution_count": 63,
   "id": "e9103560",
   "metadata": {},
   "outputs": [],
   "source": [
    "# 保存所有episodes到CSV文件\n",
    "save_episodes_to_csv(episodes16, 'all_episodes16.csv')"
   ]
  },
  {
   "cell_type": "code",
   "execution_count": 64,
   "id": "94da3d5d",
   "metadata": {},
   "outputs": [
    {
     "data": {
      "text/plain": [
       "12950"
      ]
     },
     "execution_count": 64,
     "metadata": {},
     "output_type": "execute_result"
    }
   ],
   "source": [
    "len(episodes16)"
   ]
  },
  {
   "cell_type": "code",
   "execution_count": 65,
   "id": "0b63f63a",
   "metadata": {},
   "outputs": [
    {
     "name": "stderr",
     "output_type": "stream",
     "text": [
      "Fetching episodes:   6%|███▋                                                          | 3/50 [00:04<01:04,  1.38s/show]"
     ]
    },
    {
     "name": "stdout",
     "output_type": "stream",
     "text": [
      "Warning: Unexpected data structure for episode in show_id 7xATyVhNZU3abIejNIggvD.\n"
     ]
    },
    {
     "name": "stderr",
     "output_type": "stream",
     "text": [
      "Fetching episodes:  26%|███████████████▊                                             | 13/50 [00:19<00:57,  1.57s/show]"
     ]
    },
    {
     "name": "stdout",
     "output_type": "stream",
     "text": [
      "Warning: Unexpected data structure for episode in show_id 0rHGwFareXdW3XLyJEHeOV.\n",
      "Warning: Unexpected data structure for episode in show_id 0rHGwFareXdW3XLyJEHeOV.\n",
      "Warning: Unexpected data structure for episode in show_id 0rHGwFareXdW3XLyJEHeOV.\n",
      "Warning: Unexpected data structure for episode in show_id 0rHGwFareXdW3XLyJEHeOV.\n",
      "Warning: Unexpected data structure for episode in show_id 0rHGwFareXdW3XLyJEHeOV.\n",
      "Warning: Unexpected data structure for episode in show_id 0rHGwFareXdW3XLyJEHeOV.\n",
      "Warning: Unexpected data structure for episode in show_id 0rHGwFareXdW3XLyJEHeOV.\n"
     ]
    },
    {
     "name": "stderr",
     "output_type": "stream",
     "text": [
      "Fetching episodes: 100%|█████████████████████████████████████████████████████████████| 50/50 [01:25<00:00,  1.71s/show]"
     ]
    },
    {
     "name": "stdout",
     "output_type": "stream",
     "text": [
      "Warning: Unexpected data structure for episode in show_id 3j1oFe1FZzWrGesfDxeBAc.\n"
     ]
    },
    {
     "name": "stderr",
     "output_type": "stream",
     "text": [
      "\n"
     ]
    }
   ],
   "source": [
    "episodes17 = fetch_episodes_for_shows(access_token, all_show_ids[800:850])"
   ]
  },
  {
   "cell_type": "code",
   "execution_count": 66,
   "id": "5c619eaa",
   "metadata": {},
   "outputs": [],
   "source": [
    "# 保存所有episodes到CSV文件\n",
    "save_episodes_to_csv(episodes17, 'all_episodes17.csv')"
   ]
  },
  {
   "cell_type": "code",
   "execution_count": 67,
   "id": "64231763",
   "metadata": {},
   "outputs": [
    {
     "data": {
      "text/plain": [
       "26175"
      ]
     },
     "execution_count": 67,
     "metadata": {},
     "output_type": "execute_result"
    }
   ],
   "source": [
    "len(episodes16) + len(episodes17)"
   ]
  },
  {
   "cell_type": "code",
   "execution_count": 68,
   "id": "85742e51",
   "metadata": {},
   "outputs": [
    {
     "name": "stderr",
     "output_type": "stream",
     "text": [
      "Fetching episodes:  50%|██████████████████████████████▌                              | 25/50 [01:13<01:50,  4.42s/show]"
     ]
    },
    {
     "name": "stdout",
     "output_type": "stream",
     "text": [
      "Warning: Unexpected data structure for episode in show_id 3wEAGfj27RcY6akooAeJwL.\n"
     ]
    },
    {
     "name": "stderr",
     "output_type": "stream",
     "text": [
      "Fetching episodes:  58%|███████████████████████████████████▍                         | 29/50 [01:20<00:42,  2.04s/show]"
     ]
    },
    {
     "name": "stdout",
     "output_type": "stream",
     "text": [
      "Warning: Unexpected data structure for episode in show_id 4CoDfX2WqJve0RLvkuhNaq.\n",
      "Warning: Unexpected data structure for episode in show_id 4CoDfX2WqJve0RLvkuhNaq.\n"
     ]
    },
    {
     "name": "stderr",
     "output_type": "stream",
     "text": [
      "Fetching episodes:  90%|██████████████████████████████████████████████████████▉      | 45/50 [01:46<00:04,  1.14show/s]"
     ]
    },
    {
     "name": "stdout",
     "output_type": "stream",
     "text": [
      "Warning: Unexpected data structure for episode in show_id 7hpCJfE2JItPqOj8AgONCp.\n"
     ]
    },
    {
     "name": "stderr",
     "output_type": "stream",
     "text": [
      "Fetching episodes:  96%|██████████████████████████████████████████████████████████▌  | 48/50 [01:49<00:02,  1.08s/show]"
     ]
    },
    {
     "name": "stdout",
     "output_type": "stream",
     "text": [
      "Warning: Unexpected data structure for episode in show_id 7cY7drAe5qiiHNQaULlHus.\n",
      "Warning: Unexpected data structure for episode in show_id 7cY7drAe5qiiHNQaULlHus.\n",
      "Warning: Unexpected data structure for episode in show_id 7cY7drAe5qiiHNQaULlHus.\n"
     ]
    },
    {
     "name": "stderr",
     "output_type": "stream",
     "text": [
      "Fetching episodes: 100%|█████████████████████████████████████████████████████████████| 50/50 [02:02<00:00,  2.45s/show]\n"
     ]
    }
   ],
   "source": [
    "episodes18 = fetch_episodes_for_shows(access_token, all_show_ids[850:900])"
   ]
  },
  {
   "cell_type": "code",
   "execution_count": 69,
   "id": "86f74768",
   "metadata": {},
   "outputs": [],
   "source": [
    "# 保存所有episodes到CSV文件\n",
    "save_episodes_to_csv(episodes18, 'all_episodes18.csv')"
   ]
  },
  {
   "cell_type": "code",
   "execution_count": 70,
   "id": "c9890dd7",
   "metadata": {},
   "outputs": [
    {
     "data": {
      "text/plain": [
       "43184"
      ]
     },
     "execution_count": 70,
     "metadata": {},
     "output_type": "execute_result"
    }
   ],
   "source": [
    "len(episodes16) + len(episodes17) + len(episodes18)"
   ]
  },
  {
   "cell_type": "code",
   "execution_count": 71,
   "id": "0b30bf8c",
   "metadata": {},
   "outputs": [
    {
     "name": "stderr",
     "output_type": "stream",
     "text": [
      "Fetching episodes:  20%|████████████▏                                                | 10/50 [00:53<01:54,  2.86s/show]"
     ]
    },
    {
     "name": "stdout",
     "output_type": "stream",
     "text": [
      "Warning: Unexpected data structure for episode in show_id 1Ed3ncucYigHxyCZ7vk1aT.\n"
     ]
    },
    {
     "name": "stderr",
     "output_type": "stream",
     "text": [
      "Fetching episodes:  24%|██████████████▋                                              | 12/50 [00:54<01:09,  1.84s/show]"
     ]
    },
    {
     "name": "stdout",
     "output_type": "stream",
     "text": [
      "Warning: Unexpected data structure for episode in show_id 2tEwvc5QB4JbmkwwuYobvf.\n"
     ]
    },
    {
     "name": "stderr",
     "output_type": "stream",
     "text": [
      "Fetching episodes:  50%|██████████████████████████████▌                              | 25/50 [01:24<00:45,  1.84s/show]"
     ]
    },
    {
     "name": "stdout",
     "output_type": "stream",
     "text": [
      "Warning: Unexpected data structure for episode in show_id 3YNdngtCbgPrliYVm7nSnr.\n",
      "Warning: Unexpected data structure for episode in show_id 3YNdngtCbgPrliYVm7nSnr.\n",
      "Warning: Unexpected data structure for episode in show_id 3YNdngtCbgPrliYVm7nSnr.\n",
      "Warning: Unexpected data structure for episode in show_id 3YNdngtCbgPrliYVm7nSnr.\n"
     ]
    },
    {
     "name": "stderr",
     "output_type": "stream",
     "text": [
      "Fetching episodes:  82%|██████████████████████████████████████████████████           | 41/50 [01:58<00:32,  3.61s/show]"
     ]
    },
    {
     "name": "stdout",
     "output_type": "stream",
     "text": [
      "Warning: Unexpected data structure for episode in show_id 3cTqh1f1Ytns9lw5lC885f.\n",
      "Warning: Unexpected data structure for episode in show_id 3cTqh1f1Ytns9lw5lC885f.\n",
      "Warning: Unexpected data structure for episode in show_id 3cTqh1f1Ytns9lw5lC885f.\n"
     ]
    },
    {
     "name": "stderr",
     "output_type": "stream",
     "text": [
      "\r",
      "Fetching episodes:  84%|███████████████████████████████████████████████████▏         | 42/50 [02:24<01:21, 10.23s/show]"
     ]
    },
    {
     "name": "stdout",
     "output_type": "stream",
     "text": [
      "Warning: Unexpected data structure for episode in show_id 56CjYLQWyMx1MkOEQmlubi.\n",
      "Warning: Unexpected data structure for episode in show_id 56CjYLQWyMx1MkOEQmlubi.\n",
      "Warning: Unexpected data structure for episode in show_id 56CjYLQWyMx1MkOEQmlubi.\n",
      "Warning: Unexpected data structure for episode in show_id 56CjYLQWyMx1MkOEQmlubi.\n",
      "Warning: Unexpected data structure for episode in show_id 56CjYLQWyMx1MkOEQmlubi.\n",
      "Warning: Unexpected data structure for episode in show_id 56CjYLQWyMx1MkOEQmlubi.\n",
      "Warning: Unexpected data structure for episode in show_id 56CjYLQWyMx1MkOEQmlubi.\n",
      "Warning: Unexpected data structure for episode in show_id 56CjYLQWyMx1MkOEQmlubi.\n",
      "Warning: Unexpected data structure for episode in show_id 56CjYLQWyMx1MkOEQmlubi.\n",
      "Warning: Unexpected data structure for episode in show_id 56CjYLQWyMx1MkOEQmlubi.\n",
      "Warning: Unexpected data structure for episode in show_id 56CjYLQWyMx1MkOEQmlubi.\n",
      "Warning: Unexpected data structure for episode in show_id 56CjYLQWyMx1MkOEQmlubi.\n",
      "Warning: Unexpected data structure for episode in show_id 56CjYLQWyMx1MkOEQmlubi.\n",
      "Warning: Unexpected data structure for episode in show_id 56CjYLQWyMx1MkOEQmlubi.\n"
     ]
    },
    {
     "name": "stderr",
     "output_type": "stream",
     "text": [
      "Fetching episodes:  88%|█████████████████████████████████████████████████████▋       | 44/50 [03:07<01:46, 17.82s/show]"
     ]
    },
    {
     "name": "stdout",
     "output_type": "stream",
     "text": [
      "Warning: Unexpected data structure for episode in show_id 0hUkPxD34jRLrMrJux4VxV.\n",
      "Warning: Unexpected data structure for episode in show_id 0hUkPxD34jRLrMrJux4VxV.\n",
      "Warning: Unexpected data structure for episode in show_id 0hUkPxD34jRLrMrJux4VxV.\n",
      "Warning: Unexpected data structure for episode in show_id 0hUkPxD34jRLrMrJux4VxV.\n",
      "Warning: Unexpected data structure for episode in show_id 0hUkPxD34jRLrMrJux4VxV.\n",
      "Warning: Unexpected data structure for episode in show_id 0hUkPxD34jRLrMrJux4VxV.\n",
      "Warning: Unexpected data structure for episode in show_id 0hUkPxD34jRLrMrJux4VxV.\n",
      "Warning: Unexpected data structure for episode in show_id 0hUkPxD34jRLrMrJux4VxV.\n",
      "Warning: Unexpected data structure for episode in show_id 0hUkPxD34jRLrMrJux4VxV.\n",
      "Warning: Unexpected data structure for episode in show_id 0hUkPxD34jRLrMrJux4VxV.\n",
      "Warning: Unexpected data structure for episode in show_id 0hUkPxD34jRLrMrJux4VxV.\n",
      "Warning: Unexpected data structure for episode in show_id 0hUkPxD34jRLrMrJux4VxV.\n",
      "Warning: Unexpected data structure for episode in show_id 0hUkPxD34jRLrMrJux4VxV.\n",
      "Warning: Unexpected data structure for episode in show_id 0hUkPxD34jRLrMrJux4VxV.\n",
      "Warning: Unexpected data structure for episode in show_id 0hUkPxD34jRLrMrJux4VxV.\n",
      "Warning: Unexpected data structure for episode in show_id 0hUkPxD34jRLrMrJux4VxV.\n",
      "Warning: Unexpected data structure for episode in show_id 0hUkPxD34jRLrMrJux4VxV.\n",
      "Warning: Unexpected data structure for episode in show_id 0hUkPxD34jRLrMrJux4VxV.\n",
      "Warning: Unexpected data structure for episode in show_id 0hUkPxD34jRLrMrJux4VxV.\n",
      "Warning: Unexpected data structure for episode in show_id 0hUkPxD34jRLrMrJux4VxV.\n",
      "Warning: Unexpected data structure for episode in show_id 0hUkPxD34jRLrMrJux4VxV.\n",
      "Warning: Unexpected data structure for episode in show_id 0hUkPxD34jRLrMrJux4VxV.\n",
      "Warning: Unexpected data structure for episode in show_id 0hUkPxD34jRLrMrJux4VxV.\n",
      "Warning: Unexpected data structure for episode in show_id 0hUkPxD34jRLrMrJux4VxV.\n",
      "Warning: Unexpected data structure for episode in show_id 0hUkPxD34jRLrMrJux4VxV.\n",
      "Warning: Unexpected data structure for episode in show_id 0hUkPxD34jRLrMrJux4VxV.\n",
      "Warning: Unexpected data structure for episode in show_id 0hUkPxD34jRLrMrJux4VxV.\n",
      "Warning: Unexpected data structure for episode in show_id 0hUkPxD34jRLrMrJux4VxV.\n",
      "Warning: Unexpected data structure for episode in show_id 0hUkPxD34jRLrMrJux4VxV.\n",
      "Warning: Unexpected data structure for episode in show_id 0hUkPxD34jRLrMrJux4VxV.\n",
      "Warning: Unexpected data structure for episode in show_id 0hUkPxD34jRLrMrJux4VxV.\n",
      "Warning: Unexpected data structure for episode in show_id 0hUkPxD34jRLrMrJux4VxV.\n",
      "Warning: Unexpected data structure for episode in show_id 0hUkPxD34jRLrMrJux4VxV.\n"
     ]
    },
    {
     "name": "stderr",
     "output_type": "stream",
     "text": [
      "Fetching episodes:  96%|██████████████████████████████████████████████████████████▌  | 48/50 [03:12<00:10,  5.46s/show]"
     ]
    },
    {
     "name": "stdout",
     "output_type": "stream",
     "text": [
      "Warning: Unexpected data structure for episode in show_id 1A4raDwUk6CPt2jTYsT7hl.\n",
      "Warning: Unexpected data structure for episode in show_id 1A4raDwUk6CPt2jTYsT7hl.\n"
     ]
    },
    {
     "name": "stderr",
     "output_type": "stream",
     "text": [
      "Fetching episodes: 100%|█████████████████████████████████████████████████████████████| 50/50 [03:13<00:00,  3.88s/show]\n"
     ]
    }
   ],
   "source": [
    "episodes19 = fetch_episodes_for_shows(access_token, all_show_ids[900:950])"
   ]
  },
  {
   "cell_type": "code",
   "execution_count": 72,
   "id": "22c3fd7e",
   "metadata": {},
   "outputs": [],
   "source": [
    "# 保存所有episodes到CSV文件\n",
    "save_episodes_to_csv(episodes19, 'all_episodes19.csv')"
   ]
  },
  {
   "cell_type": "code",
   "execution_count": 73,
   "id": "43fe1b94",
   "metadata": {},
   "outputs": [
    {
     "data": {
      "text/plain": [
       "71295"
      ]
     },
     "execution_count": 73,
     "metadata": {},
     "output_type": "execute_result"
    }
   ],
   "source": [
    "len(episodes16) + len(episodes17) + len(episodes18) + len(episodes19)"
   ]
  },
  {
   "cell_type": "code",
   "execution_count": 74,
   "id": "f45a0515",
   "metadata": {},
   "outputs": [
    {
     "name": "stderr",
     "output_type": "stream",
     "text": [
      "Fetching episodes:  14%|████████▋                                                     | 7/50 [00:14<01:10,  1.64s/show]"
     ]
    },
    {
     "name": "stdout",
     "output_type": "stream",
     "text": [
      "Warning: Unexpected data structure for episode in show_id 4hWvhVkN6IddyEiF3Zpley.\n",
      "Warning: Unexpected data structure for episode in show_id 4hWvhVkN6IddyEiF3Zpley.\n",
      "Warning: Unexpected data structure for episode in show_id 4hWvhVkN6IddyEiF3Zpley.\n"
     ]
    },
    {
     "name": "stderr",
     "output_type": "stream",
     "text": [
      "Fetching episodes:  34%|████████████████████▋                                        | 17/50 [00:28<01:03,  1.92s/show]"
     ]
    },
    {
     "name": "stdout",
     "output_type": "stream",
     "text": [
      "Warning: Unexpected data structure for episode in show_id 2HDaqExFABugadHFKWbgms.\n",
      "Warning: Unexpected data structure for episode in show_id 2HDaqExFABugadHFKWbgms.\n"
     ]
    },
    {
     "name": "stderr",
     "output_type": "stream",
     "text": [
      "Fetching episodes:  68%|█████████████████████████████████████████▍                   | 34/50 [00:59<00:30,  1.91s/show]"
     ]
    },
    {
     "name": "stdout",
     "output_type": "stream",
     "text": [
      "Warning: Unexpected data structure for episode in show_id 7xreeGhZI9bDCOVp5xuXlX.\n"
     ]
    },
    {
     "name": "stderr",
     "output_type": "stream",
     "text": [
      "Fetching episodes:  74%|█████████████████████████████████████████████▏               | 37/50 [01:07<00:33,  2.56s/show]"
     ]
    },
    {
     "name": "stdout",
     "output_type": "stream",
     "text": [
      "Warning: Unexpected data structure for episode in show_id 2EjMCqYDzYnYQuuTBRMjJy.\n",
      "Warning: Unexpected data structure for episode in show_id 2EjMCqYDzYnYQuuTBRMjJy.\n",
      "Warning: Unexpected data structure for episode in show_id 2EjMCqYDzYnYQuuTBRMjJy.\n",
      "Warning: Unexpected data structure for episode in show_id 2EjMCqYDzYnYQuuTBRMjJy.\n",
      "Warning: Unexpected data structure for episode in show_id 2EjMCqYDzYnYQuuTBRMjJy.\n",
      "Warning: Unexpected data structure for episode in show_id 2EjMCqYDzYnYQuuTBRMjJy.\n",
      "Warning: Unexpected data structure for episode in show_id 2EjMCqYDzYnYQuuTBRMjJy.\n",
      "Warning: Unexpected data structure for episode in show_id 2EjMCqYDzYnYQuuTBRMjJy.\n",
      "Warning: Unexpected data structure for episode in show_id 2EjMCqYDzYnYQuuTBRMjJy.\n",
      "Warning: Unexpected data structure for episode in show_id 2EjMCqYDzYnYQuuTBRMjJy.\n",
      "Warning: Unexpected data structure for episode in show_id 2EjMCqYDzYnYQuuTBRMjJy.\n",
      "Warning: Unexpected data structure for episode in show_id 2EjMCqYDzYnYQuuTBRMjJy.\n",
      "Warning: Unexpected data structure for episode in show_id 2EjMCqYDzYnYQuuTBRMjJy.\n",
      "Warning: Unexpected data structure for episode in show_id 2EjMCqYDzYnYQuuTBRMjJy.\n"
     ]
    },
    {
     "name": "stderr",
     "output_type": "stream",
     "text": [
      "Fetching episodes: 100%|█████████████████████████████████████████████████████████████| 50/50 [01:30<00:00,  1.82s/show]"
     ]
    },
    {
     "name": "stdout",
     "output_type": "stream",
     "text": [
      "Warning: Unexpected data structure for episode in show_id 2FDSrGIG77l6rap1oh7C6s.\n",
      "Warning: Unexpected data structure for episode in show_id 2FDSrGIG77l6rap1oh7C6s.\n",
      "Warning: Unexpected data structure for episode in show_id 2FDSrGIG77l6rap1oh7C6s.\n",
      "Warning: Unexpected data structure for episode in show_id 2FDSrGIG77l6rap1oh7C6s.\n",
      "Warning: Unexpected data structure for episode in show_id 2FDSrGIG77l6rap1oh7C6s.\n"
     ]
    },
    {
     "name": "stderr",
     "output_type": "stream",
     "text": [
      "\n"
     ]
    }
   ],
   "source": [
    "episodes20 = fetch_episodes_for_shows(access_token, all_show_ids[950:1000])"
   ]
  },
  {
   "cell_type": "code",
   "execution_count": 75,
   "id": "4a38295d",
   "metadata": {},
   "outputs": [],
   "source": [
    "# 保存所有episodes到CSV文件\n",
    "save_episodes_to_csv(episodes20, 'all_episodes20.csv')"
   ]
  },
  {
   "cell_type": "code",
   "execution_count": 76,
   "id": "647d6d86",
   "metadata": {},
   "outputs": [
    {
     "data": {
      "text/plain": [
       "86126"
      ]
     },
     "execution_count": 76,
     "metadata": {},
     "output_type": "execute_result"
    }
   ],
   "source": [
    "len(episodes16) + len(episodes17) + len(episodes18) + len(episodes19) + len(episodes20)"
   ]
  },
  {
   "cell_type": "markdown",
   "id": "3b34e894",
   "metadata": {},
   "source": [
    "### 合并"
   ]
  },
  {
   "cell_type": "code",
   "execution_count": 3,
   "id": "eb75da7f",
   "metadata": {},
   "outputs": [
    {
     "name": "stdout",
     "output_type": "stream",
     "text": [
      "all_episodes1.csv\n",
      "all_episodes2.csv\n",
      "all_episodes3.csv\n",
      "all_episodes4.csv\n",
      "all_episodes5.csv\n",
      "all_episodes6.csv\n",
      "all_episodes7.csv\n",
      "all_episodes8.csv\n",
      "all_episodes9.csv\n",
      "all_episodes10.csv\n",
      "all_episodes11.csv\n",
      "all_episodes12.csv\n",
      "all_episodes13.csv\n",
      "all_episodes14.csv\n",
      "all_episodes15.csv\n",
      "all_episodes16.csv\n",
      "all_episodes17.csv\n",
      "all_episodes18.csv\n",
      "all_episodes19.csv\n",
      "all_episodes20.csv\n"
     ]
    }
   ],
   "source": [
    "import pandas as pd\n",
    "import glob\n",
    "\n",
    "# 定义类别列表\n",
    "categories = ['Science', 'Technology', 'Comedy', 'Business', 'Health', 'Music', 'Sports', 'Culture', 'News', \n",
    "              'Fiction', 'Education', 'History', 'Society & Culture', 'True Crime', 'Arts', 'Lifestyle', \n",
    "              'Parenting', 'Religion & Spirituality', 'Self-Improvement', 'TV & Film']\n",
    "\n",
    "# 定义所有CSV文件的路径模式\n",
    "file_pattern = 'all_episodes*.csv'\n",
    "\n",
    "# 使用glob获取所有匹配的CSV文件路径\n",
    "csv_files = glob.glob(file_pattern)\n",
    "\n",
    "# 排序文件名，根据后缀数字排序\n",
    "csv_files_sorted = sorted(csv_files, key=lambda x: int(x.split('all_episodes')[1].split('.csv')[0]))\n",
    "\n",
    "# 用于存储所有处理后的DataFrame\n",
    "all_episodes = []\n",
    "\n",
    "# 读取每个文件并添加新列\n",
    "for i, file in enumerate(csv_files_sorted):\n",
    "    # 打印当前处理的文件名\n",
    "    print(file)\n",
    "    \n",
    "    # 读取CSV文件\n",
    "    df = pd.read_csv(file)\n",
    "    \n",
    "    # 添加新列 'category'，值为对应的类别\n",
    "    df['category'] = categories[i]\n",
    "    \n",
    "    # 将处理后的DataFrame添加到列表\n",
    "    all_episodes.append(df)"
   ]
  },
  {
   "cell_type": "code",
   "execution_count": 4,
   "id": "87b15754",
   "metadata": {},
   "outputs": [],
   "source": [
    "# 合并所有DataFrame\n",
    "merged_episodes = pd.concat(all_episodes, ignore_index=True)\n",
    "\n",
    "# 保存合并后的DataFrame到新的CSV文件\n",
    "merged_episodes.to_csv('episodes_with_category.csv', index=False)"
   ]
  },
  {
   "cell_type": "code",
   "execution_count": 5,
   "id": "ea097c66",
   "metadata": {},
   "outputs": [
    {
     "data": {
      "text/html": [
       "<div>\n",
       "<style scoped>\n",
       "    .dataframe tbody tr th:only-of-type {\n",
       "        vertical-align: middle;\n",
       "    }\n",
       "\n",
       "    .dataframe tbody tr th {\n",
       "        vertical-align: top;\n",
       "    }\n",
       "\n",
       "    .dataframe thead th {\n",
       "        text-align: right;\n",
       "    }\n",
       "</style>\n",
       "<table border=\"1\" class=\"dataframe\">\n",
       "  <thead>\n",
       "    <tr style=\"text-align: right;\">\n",
       "      <th></th>\n",
       "      <th>show_id</th>\n",
       "      <th>name</th>\n",
       "      <th>description</th>\n",
       "      <th>release_date</th>\n",
       "      <th>duration_minutes</th>\n",
       "      <th>id</th>\n",
       "      <th>audio_preview_url</th>\n",
       "      <th>explicit</th>\n",
       "      <th>language</th>\n",
       "      <th>category</th>\n",
       "    </tr>\n",
       "  </thead>\n",
       "  <tbody>\n",
       "    <tr>\n",
       "      <th>0</th>\n",
       "      <td>5lY4b5PGOvMuOYOjOVEcb9</td>\n",
       "      <td>How a Nuclear Lab Helped Catch a Serial Killer</td>\n",
       "      <td>It’s the 1990s at a medical center in Californ...</td>\n",
       "      <td>2024-11-28</td>\n",
       "      <td>46.72</td>\n",
       "      <td>383sunWBthuLTikfu7uRyJ</td>\n",
       "      <td>https://podz-content.spotifycdn.com/audio/clip...</td>\n",
       "      <td>False</td>\n",
       "      <td>en</td>\n",
       "      <td>Science</td>\n",
       "    </tr>\n",
       "  </tbody>\n",
       "</table>\n",
       "</div>"
      ],
      "text/plain": [
       "                  show_id                                             name  \\\n",
       "0  5lY4b5PGOvMuOYOjOVEcb9  How a Nuclear Lab Helped Catch a Serial Killer    \n",
       "\n",
       "                                         description release_date  \\\n",
       "0  It’s the 1990s at a medical center in Californ...   2024-11-28   \n",
       "\n",
       "   duration_minutes                      id  \\\n",
       "0             46.72  383sunWBthuLTikfu7uRyJ   \n",
       "\n",
       "                                   audio_preview_url  explicit language  \\\n",
       "0  https://podz-content.spotifycdn.com/audio/clip...     False       en   \n",
       "\n",
       "  category  \n",
       "0  Science  "
      ]
     },
     "execution_count": 5,
     "metadata": {},
     "output_type": "execute_result"
    }
   ],
   "source": [
    "merged_episodes.head(1)"
   ]
  },
  {
   "cell_type": "code",
   "execution_count": 6,
   "id": "a17b2b0b",
   "metadata": {},
   "outputs": [
    {
     "data": {
      "text/html": [
       "<div>\n",
       "<style scoped>\n",
       "    .dataframe tbody tr th:only-of-type {\n",
       "        vertical-align: middle;\n",
       "    }\n",
       "\n",
       "    .dataframe tbody tr th {\n",
       "        vertical-align: top;\n",
       "    }\n",
       "\n",
       "    .dataframe thead th {\n",
       "        text-align: right;\n",
       "    }\n",
       "</style>\n",
       "<table border=\"1\" class=\"dataframe\">\n",
       "  <thead>\n",
       "    <tr style=\"text-align: right;\">\n",
       "      <th></th>\n",
       "      <th>Category</th>\n",
       "      <th>Episode Count</th>\n",
       "    </tr>\n",
       "  </thead>\n",
       "  <tbody>\n",
       "    <tr>\n",
       "      <th>0</th>\n",
       "      <td>Sports</td>\n",
       "      <td>44441</td>\n",
       "    </tr>\n",
       "    <tr>\n",
       "      <th>1</th>\n",
       "      <td>Arts</td>\n",
       "      <td>34077</td>\n",
       "    </tr>\n",
       "    <tr>\n",
       "      <th>2</th>\n",
       "      <td>News</td>\n",
       "      <td>30452</td>\n",
       "    </tr>\n",
       "    <tr>\n",
       "      <th>3</th>\n",
       "      <td>Self-Improvement</td>\n",
       "      <td>28053</td>\n",
       "    </tr>\n",
       "    <tr>\n",
       "      <th>4</th>\n",
       "      <td>Culture</td>\n",
       "      <td>26962</td>\n",
       "    </tr>\n",
       "    <tr>\n",
       "      <th>5</th>\n",
       "      <td>Technology</td>\n",
       "      <td>25819</td>\n",
       "    </tr>\n",
       "    <tr>\n",
       "      <th>6</th>\n",
       "      <td>Comedy</td>\n",
       "      <td>24947</td>\n",
       "    </tr>\n",
       "    <tr>\n",
       "      <th>7</th>\n",
       "      <td>Society &amp; Culture</td>\n",
       "      <td>23296</td>\n",
       "    </tr>\n",
       "    <tr>\n",
       "      <th>8</th>\n",
       "      <td>Business</td>\n",
       "      <td>21599</td>\n",
       "    </tr>\n",
       "    <tr>\n",
       "      <th>9</th>\n",
       "      <td>Health</td>\n",
       "      <td>18535</td>\n",
       "    </tr>\n",
       "    <tr>\n",
       "      <th>10</th>\n",
       "      <td>History</td>\n",
       "      <td>17885</td>\n",
       "    </tr>\n",
       "    <tr>\n",
       "      <th>11</th>\n",
       "      <td>Religion &amp; Spirituality</td>\n",
       "      <td>17002</td>\n",
       "    </tr>\n",
       "    <tr>\n",
       "      <th>12</th>\n",
       "      <td>True Crime</td>\n",
       "      <td>15597</td>\n",
       "    </tr>\n",
       "    <tr>\n",
       "      <th>13</th>\n",
       "      <td>TV &amp; Film</td>\n",
       "      <td>14806</td>\n",
       "    </tr>\n",
       "    <tr>\n",
       "      <th>14</th>\n",
       "      <td>Science</td>\n",
       "      <td>14208</td>\n",
       "    </tr>\n",
       "    <tr>\n",
       "      <th>15</th>\n",
       "      <td>Parenting</td>\n",
       "      <td>13216</td>\n",
       "    </tr>\n",
       "    <tr>\n",
       "      <th>16</th>\n",
       "      <td>Education</td>\n",
       "      <td>13152</td>\n",
       "    </tr>\n",
       "    <tr>\n",
       "      <th>17</th>\n",
       "      <td>Lifestyle</td>\n",
       "      <td>12922</td>\n",
       "    </tr>\n",
       "    <tr>\n",
       "      <th>18</th>\n",
       "      <td>Fiction</td>\n",
       "      <td>9687</td>\n",
       "    </tr>\n",
       "    <tr>\n",
       "      <th>19</th>\n",
       "      <td>Music</td>\n",
       "      <td>2431</td>\n",
       "    </tr>\n",
       "  </tbody>\n",
       "</table>\n",
       "</div>"
      ],
      "text/plain": [
       "                   Category  Episode Count\n",
       "0                    Sports          44441\n",
       "1                      Arts          34077\n",
       "2                      News          30452\n",
       "3          Self-Improvement          28053\n",
       "4                   Culture          26962\n",
       "5                Technology          25819\n",
       "6                    Comedy          24947\n",
       "7         Society & Culture          23296\n",
       "8                  Business          21599\n",
       "9                    Health          18535\n",
       "10                  History          17885\n",
       "11  Religion & Spirituality          17002\n",
       "12               True Crime          15597\n",
       "13                TV & Film          14806\n",
       "14                  Science          14208\n",
       "15                Parenting          13216\n",
       "16                Education          13152\n",
       "17                Lifestyle          12922\n",
       "18                  Fiction           9687\n",
       "19                    Music           2431"
      ]
     },
     "execution_count": 6,
     "metadata": {},
     "output_type": "execute_result"
    }
   ],
   "source": [
    "import pandas as pd\n",
    "\n",
    "# 统计 'category' 列的计数\n",
    "category_counts = merged_episodes['category'].value_counts()\n",
    "\n",
    "# 转换为 DataFrame 格式\n",
    "category_counts_df = category_counts.reset_index()\n",
    "category_counts_df.columns = ['Category', 'Episode Count']\n",
    "\n",
    "# 打印表格\n",
    "category_counts_df"
   ]
  },
  {
   "cell_type": "markdown",
   "id": "95891f6a",
   "metadata": {},
   "source": [
    "### 根据show id添加show name"
   ]
  },
  {
   "cell_type": "code",
   "execution_count": 17,
   "id": "753d4b02",
   "metadata": {},
   "outputs": [],
   "source": [
    "# 读取 CSV 文件\n",
    "file_path = 'episodes_with_category.csv'\n",
    "data = pd.read_csv(file_path)"
   ]
  },
  {
   "cell_type": "code",
   "execution_count": 18,
   "id": "bd01bdf5",
   "metadata": {},
   "outputs": [
    {
     "data": {
      "text/html": [
       "<div>\n",
       "<style scoped>\n",
       "    .dataframe tbody tr th:only-of-type {\n",
       "        vertical-align: middle;\n",
       "    }\n",
       "\n",
       "    .dataframe tbody tr th {\n",
       "        vertical-align: top;\n",
       "    }\n",
       "\n",
       "    .dataframe thead th {\n",
       "        text-align: right;\n",
       "    }\n",
       "</style>\n",
       "<table border=\"1\" class=\"dataframe\">\n",
       "  <thead>\n",
       "    <tr style=\"text-align: right;\">\n",
       "      <th></th>\n",
       "      <th>show_id</th>\n",
       "      <th>name</th>\n",
       "      <th>description</th>\n",
       "      <th>release_date</th>\n",
       "      <th>duration_minutes</th>\n",
       "      <th>id</th>\n",
       "      <th>audio_preview_url</th>\n",
       "      <th>explicit</th>\n",
       "      <th>language</th>\n",
       "      <th>category</th>\n",
       "    </tr>\n",
       "  </thead>\n",
       "  <tbody>\n",
       "    <tr>\n",
       "      <th>0</th>\n",
       "      <td>5lY4b5PGOvMuOYOjOVEcb9</td>\n",
       "      <td>How a Nuclear Lab Helped Catch a Serial Killer</td>\n",
       "      <td>It’s the 1990s at a medical center in Californ...</td>\n",
       "      <td>2024-11-28</td>\n",
       "      <td>46.72</td>\n",
       "      <td>383sunWBthuLTikfu7uRyJ</td>\n",
       "      <td>https://podz-content.spotifycdn.com/audio/clip...</td>\n",
       "      <td>False</td>\n",
       "      <td>en</td>\n",
       "      <td>Science</td>\n",
       "    </tr>\n",
       "  </tbody>\n",
       "</table>\n",
       "</div>"
      ],
      "text/plain": [
       "                  show_id                                             name  \\\n",
       "0  5lY4b5PGOvMuOYOjOVEcb9  How a Nuclear Lab Helped Catch a Serial Killer    \n",
       "\n",
       "                                         description release_date  \\\n",
       "0  It’s the 1990s at a medical center in Californ...   2024-11-28   \n",
       "\n",
       "   duration_minutes                      id  \\\n",
       "0             46.72  383sunWBthuLTikfu7uRyJ   \n",
       "\n",
       "                                   audio_preview_url  explicit language  \\\n",
       "0  https://podz-content.spotifycdn.com/audio/clip...     False       en   \n",
       "\n",
       "  category  \n",
       "0  Science  "
      ]
     },
     "execution_count": 18,
     "metadata": {},
     "output_type": "execute_result"
    }
   ],
   "source": [
    "data.head(1)"
   ]
  },
  {
   "cell_type": "code",
   "execution_count": 8,
   "id": "ff29a58e",
   "metadata": {},
   "outputs": [],
   "source": [
    "def get_show_name(show_id, access_token):\n",
    "    url = f'https://api.spotify.com/v1/shows/{show_id}'\n",
    "    headers = {\n",
    "        'Authorization': f'Bearer {access_token}'\n",
    "    }\n",
    "    response = requests.get(url, headers=headers)\n",
    "    if response.status_code == 200:\n",
    "        return response.json().get('name', 'Unknown')\n",
    "    else:\n",
    "        return 'Unknown'"
   ]
  },
  {
   "cell_type": "code",
   "execution_count": 19,
   "id": "f1d32b7c",
   "metadata": {},
   "outputs": [
    {
     "data": {
      "text/plain": [
       "922"
      ]
     },
     "execution_count": 19,
     "metadata": {},
     "output_type": "execute_result"
    }
   ],
   "source": [
    "# 获取唯一的 show_id\n",
    "unique_show_ids = data['show_id'].unique()\n",
    "len(unique_show_ids)"
   ]
  },
  {
   "cell_type": "code",
   "execution_count": 13,
   "id": "dcb33b17",
   "metadata": {},
   "outputs": [],
   "source": [
    "# 创建一个字典以缓存结果\n",
    "show_name_cache = {show_id: get_show_name(show_id, access_token) for show_id in unique_show_ids}"
   ]
  },
  {
   "cell_type": "code",
   "execution_count": 25,
   "id": "5225f4d8",
   "metadata": {},
   "outputs": [],
   "source": [
    "# 用缓存填充数据\n",
    "data['show_name'] = data['show_id'].map(show_name_cache)"
   ]
  },
  {
   "cell_type": "code",
   "execution_count": 26,
   "id": "31f86f48",
   "metadata": {},
   "outputs": [
    {
     "name": "stdout",
     "output_type": "stream",
     "text": [
      "There are 0 'Unknown' entries in the 'show_name' column.\n"
     ]
    }
   ],
   "source": [
    "# 使用布尔条件计数\n",
    "unknown_count = (data['show_name'] == 'Unknown').sum()\n",
    "print(f\"There are {unknown_count} 'Unknown' entries in the 'show_name' column.\")"
   ]
  },
  {
   "cell_type": "code",
   "execution_count": 23,
   "id": "6595c604",
   "metadata": {},
   "outputs": [
    {
     "data": {
      "text/html": [
       "<div>\n",
       "<style scoped>\n",
       "    .dataframe tbody tr th:only-of-type {\n",
       "        vertical-align: middle;\n",
       "    }\n",
       "\n",
       "    .dataframe tbody tr th {\n",
       "        vertical-align: top;\n",
       "    }\n",
       "\n",
       "    .dataframe thead th {\n",
       "        text-align: right;\n",
       "    }\n",
       "</style>\n",
       "<table border=\"1\" class=\"dataframe\">\n",
       "  <thead>\n",
       "    <tr style=\"text-align: right;\">\n",
       "      <th></th>\n",
       "      <th>show_id</th>\n",
       "      <th>name</th>\n",
       "      <th>description</th>\n",
       "      <th>release_date</th>\n",
       "      <th>duration_minutes</th>\n",
       "      <th>id</th>\n",
       "      <th>audio_preview_url</th>\n",
       "      <th>explicit</th>\n",
       "      <th>language</th>\n",
       "      <th>category</th>\n",
       "      <th>show_name</th>\n",
       "    </tr>\n",
       "  </thead>\n",
       "  <tbody>\n",
       "    <tr>\n",
       "      <th>0</th>\n",
       "      <td>5lY4b5PGOvMuOYOjOVEcb9</td>\n",
       "      <td>How a Nuclear Lab Helped Catch a Serial Killer</td>\n",
       "      <td>It’s the 1990s at a medical center in Californ...</td>\n",
       "      <td>2024-11-28</td>\n",
       "      <td>46.72</td>\n",
       "      <td>383sunWBthuLTikfu7uRyJ</td>\n",
       "      <td>https://podz-content.spotifycdn.com/audio/clip...</td>\n",
       "      <td>False</td>\n",
       "      <td>en</td>\n",
       "      <td>Science</td>\n",
       "      <td>Science Vs</td>\n",
       "    </tr>\n",
       "  </tbody>\n",
       "</table>\n",
       "</div>"
      ],
      "text/plain": [
       "                  show_id                                             name  \\\n",
       "0  5lY4b5PGOvMuOYOjOVEcb9  How a Nuclear Lab Helped Catch a Serial Killer    \n",
       "\n",
       "                                         description release_date  \\\n",
       "0  It’s the 1990s at a medical center in Californ...   2024-11-28   \n",
       "\n",
       "   duration_minutes                      id  \\\n",
       "0             46.72  383sunWBthuLTikfu7uRyJ   \n",
       "\n",
       "                                   audio_preview_url  explicit language  \\\n",
       "0  https://podz-content.spotifycdn.com/audio/clip...     False       en   \n",
       "\n",
       "  category   show_name  \n",
       "0  Science  Science Vs  "
      ]
     },
     "execution_count": 23,
     "metadata": {},
     "output_type": "execute_result"
    }
   ],
   "source": [
    "data.head(1)"
   ]
  },
  {
   "cell_type": "code",
   "execution_count": 24,
   "id": "54f733e0",
   "metadata": {},
   "outputs": [],
   "source": [
    "# 保存新的 CSV 文件\n",
    "output_path = 'episodes_with_category_and_showname.csv'\n",
    "data.to_csv(output_path, index=False)"
   ]
  },
  {
   "cell_type": "code",
   "execution_count": null,
   "id": "ca376173",
   "metadata": {},
   "outputs": [],
   "source": []
  }
 ],
 "metadata": {
  "kernelspec": {
   "display_name": "Python 3 (ipykernel)",
   "language": "python",
   "name": "python3"
  },
  "language_info": {
   "codemirror_mode": {
    "name": "ipython",
    "version": 3
   },
   "file_extension": ".py",
   "mimetype": "text/x-python",
   "name": "python",
   "nbconvert_exporter": "python",
   "pygments_lexer": "ipython3",
   "version": "3.9.12"
  }
 },
 "nbformat": 4,
 "nbformat_minor": 5
}
